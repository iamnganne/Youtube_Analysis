{
 "cells": [
  {
   "cell_type": "markdown",
   "metadata": {},
   "source": [
    "# chuyển video.json thành video.csv"
   ]
  },
  {
   "cell_type": "code",
   "execution_count": 33,
   "metadata": {},
   "outputs": [
    {
     "name": "stdout",
     "output_type": "stream",
     "text": [
      "Data has been written to video6.csv\n"
     ]
    }
   ],
   "source": [
    "import json\n",
    "import csv\n",
    "\n",
    "# Đường dẫn tệp JSON đầu vào và tệp CSV đầu ra\n",
    "input_json_path = 'video4.json'  # Thay bằng đường dẫn tệp JSON của bạn\n",
    "output_csv_path = 'video6.csv'\n",
    "\n",
    "# Đọc dữ liệu từ tệp JSON\n",
    "with open(input_json_path, 'r', encoding='utf-8') as f:\n",
    "    data = json.load(f)\n",
    "\n",
    "# Trích xuất các trường cần thiết\n",
    "videos = []\n",
    "for video in data[0][\"items\"]:\n",
    "    snippet = video.get(\"snippet\", {})\n",
    "    statistics = video.get(\"statistics\", {})\n",
    "    \n",
    "    videos.append({\n",
    "        \"Video ID\": video.get(\"id\"),\n",
    "        \"Title\": snippet.get(\"title\"),\n",
    "        'category_id': snippet.get(\"categoryId\"),\n",
    "        \"Published At\": snippet.get(\"publishedAt\"),\n",
    "        \"Channel Title\": snippet.get(\"channelTitle\"),\n",
    "        \"View Count\": statistics.get(\"viewCount\"),\n",
    "        \"Like Count\": statistics.get(\"likeCount\"),\n",
    "        \"Comment Count\": statistics.get(\"commentCount\")\n",
    "    })\n",
    "\n",
    "# Ghi dữ liệu vào tệp CSV\n",
    "with open(output_csv_path, 'w', newline='', encoding='utf-8') as csvfile:\n",
    "    fieldnames = [\"Video ID\", \"Title\", \"category_id\", \"Published At\", \"Channel Title\", \"View Count\", \"Like Count\", \"Comment Count\"]\n",
    "    writer = csv.DictWriter(csvfile, fieldnames=fieldnames)\n",
    "\n",
    "    writer.writeheader()\n",
    "    writer.writerows(videos)\n",
    "\n",
    "print(f'Data has been written to {output_csv_path}')\n"
   ]
  },
  {
   "cell_type": "markdown",
   "metadata": {},
   "source": [
    "# gộp file"
   ]
  },
  {
   "cell_type": "code",
   "execution_count": 1,
   "metadata": {},
   "outputs": [
    {
     "name": "stdout",
     "output_type": "stream",
     "text": [
      "Đã gộp tệp thành công vào video123456.csv\n"
     ]
    }
   ],
   "source": [
    "import pandas as pd\n",
    "\n",
    "def merge_csv(file1, file2, output_file):\n",
    "    # Đọc hai tệp CSV\n",
    "    df1 = pd.read_csv(file1)\n",
    "    df2 = pd.read_csv(file2)\n",
    "    \n",
    "    # Gộp hai DataFrame, bỏ qua các cột trùng lặp\n",
    "    merged_df = pd.concat([df1, df2], ignore_index=True)\n",
    "    \n",
    "    # Ghi dữ liệu vào tệp CSV đầu ra\n",
    "    merged_df.to_csv(output_file, index=False)\n",
    "    print(f\"Đã gộp tệp thành công vào {output_file}\")\n",
    "\n",
    "# Đường dẫn tới các tệp CSV\n",
    "file1 = \"video-csv/video12345.csv\"\n",
    "file2 = \"video-csv/video6.csv\"\n",
    "output_file = \"video123456.csv\"\n",
    "\n",
    "# Gọi hàm gộp\n",
    "merge_csv(file1, file2, output_file)\n"
   ]
  },
  {
   "cell_type": "markdown",
   "metadata": {},
   "source": [
    "- chuyển comment.json->comment.csv\n"
   ]
  },
  {
   "cell_type": "code",
   "execution_count": 11,
   "metadata": {},
   "outputs": [
    {
     "name": "stdout",
     "output_type": "stream",
     "text": [
      "Saved 123101 comments to comments1.csv.\n"
     ]
    }
   ],
   "source": [
    "import json\n",
    "import csv\n",
    "\n",
    "def process_comments(file_path):\n",
    "    with open(file_path, 'r', encoding='utf-8') as f:\n",
    "        data = json.load(f)  # Đọc dữ liệu JSON\n",
    "\n",
    "    comments = []\n",
    "\n",
    "    for video_id, comment_threads in data.items():\n",
    "        for thread in comment_threads:\n",
    "            snippet = thread.get('snippet', {})\n",
    "            top_level_comment = snippet.get('topLevelComment', {}).get('snippet', {})\n",
    "            \n",
    "            # Trích xuất thông tin từ bình luận\n",
    "            author = top_level_comment.get('authorDisplayName', 'N/A')\n",
    "            comment_text = top_level_comment.get('textOriginal', 'N/A')\n",
    "            published_at = top_level_comment.get('publishedAt', 'N/A')\n",
    "            like_count = top_level_comment.get('likeCount', 'N/A')\n",
    "\n",
    "            comments.append({\n",
    "                'video_id': video_id,\n",
    "                'author': author,\n",
    "                'comment_text': comment_text,\n",
    "                'published_at': published_at,\n",
    "                'like_count': like_count\n",
    "            })\n",
    "\n",
    "    return comments\n",
    "\n",
    "def save_to_csv(comments, output_file):\n",
    "    fieldnames = ['video_id', 'author', 'comment_text', 'published_at', 'like_count']\n",
    "    \n",
    "    with open(output_file, mode='w', newline='', encoding='utf-8') as file:\n",
    "        writer = csv.DictWriter(file, fieldnames=fieldnames)\n",
    "        writer.writeheader()\n",
    "        writer.writerows(comments)\n",
    "    \n",
    "    print(f\"Saved {len(comments)} comments to {output_file}.\")\n",
    "\n",
    "# Đường dẫn tới tệp JSON và tệp CSV\n",
    "input_file = 'comments.json'\n",
    "output_file = 'comments1.csv'\n",
    "\n",
    "# Thực hiện xử lý và lưu dữ liệu\n",
    "comments_data = process_comments(input_file)\n",
    "save_to_csv(comments_data, output_file)\n"
   ]
  },
  {
   "cell_type": "code",
   "execution_count": 22,
   "metadata": {},
   "outputs": [
    {
     "name": "stdout",
     "output_type": "stream",
     "text": [
      "Cột 'Description' đã được xóa.\n",
      "Tệp mới đã được lưu tại: video1.csv\n"
     ]
    }
   ],
   "source": [
    "import pandas as pd\n",
    "\n",
    "# Đường dẫn tới file CSV\n",
    "file_path = \"video.csv\"\n",
    "output_path = \"video1.csv\"\n",
    "\n",
    "# Đọc file CSV\n",
    "df = pd.read_csv(file_path)\n",
    "\n",
    "# Xóa cột theo tên\n",
    "column_to_remove = \"Description\"  # Thay \"TenCot\" bằng tên cột bạn muốn xóa\n",
    "if column_to_remove in df.columns:\n",
    "    df = df.drop(columns=[column_to_remove])\n",
    "    print(f\"Cột '{column_to_remove}' đã được xóa.\")\n",
    "else:\n",
    "    print(f\"Cột '{column_to_remove}' không tồn tại trong file CSV.\")\n",
    "\n",
    "# Lưu lại file CSV đã chỉnh sửa\n",
    "df.to_csv(output_path, index=False)\n",
    "print(f\"Tệp mới đã được lưu tại: {output_path}\")\n"
   ]
  }
 ],
 "metadata": {
  "kernelspec": {
   "display_name": "base",
   "language": "python",
   "name": "python3"
  },
  "language_info": {
   "codemirror_mode": {
    "name": "ipython",
    "version": 3
   },
   "file_extension": ".py",
   "mimetype": "text/x-python",
   "name": "python",
   "nbconvert_exporter": "python",
   "pygments_lexer": "ipython3",
   "version": "3.11.7"
  }
 },
 "nbformat": 4,
 "nbformat_minor": 2
}
