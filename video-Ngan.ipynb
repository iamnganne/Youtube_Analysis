{
 "cells": [
  {
   "cell_type": "code",
   "execution_count": 16,
   "metadata": {},
   "outputs": [
    {
     "name": "stdout",
     "output_type": "stream",
     "text": [
      "root\n",
      " |-- Video ID: string (nullable = true)\n",
      " |-- Title: string (nullable = true)\n",
      " |-- Category_ID: integer (nullable = true)\n",
      " |-- Published At: timestamp (nullable = true)\n",
      " |-- Channel Title: string (nullable = true)\n",
      " |-- View Count: integer (nullable = true)\n",
      " |-- Like Count: integer (nullable = true)\n",
      " |-- Comment Count: integer (nullable = true)\n",
      "\n",
      "+-----------+--------------------+-----------+-------------------+----------------+----------+----------+-------------+\n",
      "|   Video ID|               Title|Category_ID|       Published At|   Channel Title|View Count|Like Count|Comment Count|\n",
      "+-----------+--------------------+-----------+-------------------+----------------+----------+----------+-------------+\n",
      "|N-gpD9QqTK0|Nấu đám tiệc kiểu...|         19|2024-12-01 17:44:37|Khoai Lang Thang|   1520244|     37496|         1969|\n",
      "|M_WD9Dxayk8|Đến nhà người lạ ...|         19|2024-11-17 18:57:32|Khoai Lang Thang|   1602732|     28690|         1378|\n",
      "|5AJd2FJUVkc|Ăn 10 món lạ ở kh...|         19|2024-11-05 20:27:52|Khoai Lang Thang|   2130532|     29506|         1236|\n",
      "|92-IbWKp_3k|Gặp nạn ở CHỢ TRỜ...|         19|2024-10-27 18:52:00|Khoai Lang Thang|   1779109|     24698|         1794|\n",
      "|MLBhMV8k6e0|Du lịch ẩm thực C...|         19|2024-10-16 21:05:48|Khoai Lang Thang|   2031031|     28867|         1248|\n",
      "|cJD4fc5l3fM|Châu Phi p8: HÀNG...|         19|2024-09-29 18:04:10|Khoai Lang Thang|   2925686|     35972|         1625|\n",
      "|mzeh6lWhFi4|Du lịch Châu Phi ...|         19|2024-09-10 19:31:20|Khoai Lang Thang|   2733586|     34429|         1541|\n",
      "|NgaZHtCr_a0|Theo người lạ vượ...|         19|2024-08-25 14:48:07|Khoai Lang Thang|   3437252|     51824|         2245|\n",
      "|oL9OX4e2Kl4|Tìm ăn trái thần ...|         19|2024-08-12 00:40:29|Khoai Lang Thang|   3584002|     45841|         2445|\n",
      "|IJ24VtLd1jU|2 ngày 1 đêm khôn...|         19|2024-08-07 22:49:32|Khoai Lang Thang|   3282410|     35258|         1397|\n",
      "|xEnYZ55FCG8|Chợ trời Châu Phi...|         19|2024-08-01 20:25:56|Khoai Lang Thang|   5242930|     49466|         2993|\n",
      "|aoFeasRsiyk|Ẩm thực đường phố...|         19|2024-07-10 17:03:36|Khoai Lang Thang|   2890252|     38724|         1863|\n",
      "|0Q8fkicguR8|Du lịch Châu Phi ...|         19|2024-07-03 20:24:10|Khoai Lang Thang|   2145024|     34792|         1587|\n",
      "|E-JMv4ebt18|Du lịch Mỹ tự túc...|         19|2024-05-16 17:08:36|Khoai Lang Thang|   1204102|     27169|          881|\n",
      "|7v7EBziokmM|Du lịch Mỹ tự túc...|         19|2024-05-03 19:20:37|Khoai Lang Thang|   1787991|     22571|          917|\n",
      "|7TdSEX4JFdw|Thiên đường cám d...|         19|2024-04-20 20:13:17|Khoai Lang Thang|   2819656|     35112|         1269|\n",
      "|5cW2Kj4_7HY|Choáng ngợp thung...|         19|2024-04-09 15:34:06|Khoai Lang Thang|   2872164|     34458|         1859|\n",
      "|FDMDKktG75I|Lặn biển tìm hải ...|         19|2024-03-31 22:27:10|Khoai Lang Thang|   3354618|     32408|         1167|\n",
      "|NTEgu8uWS1I|Du lịch Mỹ tự túc...|         19|2024-03-30 21:35:47|Khoai Lang Thang|   2116107|     35121|         1943|\n",
      "|rMBaVOW4AE8|Du lịch Mỹ tự túc...|         19|2024-03-23 15:37:08|Khoai Lang Thang|   3503158|     51271|         2076|\n",
      "+-----------+--------------------+-----------+-------------------+----------------+----------+----------+-------------+\n",
      "only showing top 20 rows\n",
      "\n",
      "Số hàng: 284, Số cột: 8\n"
     ]
    }
   ],
   "source": [
    "from pyspark.sql import SparkSession\n",
    "from pyspark.sql.types import StructType, StructField, StringType, IntegerType, TimestampType\n",
    "\n",
    "# Tạo SparkSession\n",
    "spark = SparkSession.builder \\\n",
    "    .appName(\"Video Analysis\") \\\n",
    "    .getOrCreate()\n",
    "\n",
    "\n",
    "# Định nghĩa schema mới\n",
    "video_schema = StructType([\n",
    "    StructField(\"Video ID\", StringType(), True),\n",
    "    StructField(\"Title\", StringType(), True),\n",
    "    StructField(\"Category_ID\", IntegerType(), True),\n",
    "    StructField(\"Published At\", TimestampType(), True),\n",
    "    StructField(\"Channel Title\", StringType(), True),\n",
    "    StructField(\"View Count\", IntegerType(), True),\n",
    "    StructField(\"Like Count\", IntegerType(), True),\n",
    "    StructField(\"Comment Count\", IntegerType(), True),\n",
    "])\n",
    "\n",
    "# Đọc file CSV với schema mới\n",
    "file_path = \"video.csv\"\n",
    "df = spark.read.option(\"header\", \"true\").schema(video_schema).csv(file_path)\n",
    "\n",
    "# Kiểm tra schema và hiển thị dữ liệu\n",
    "df.printSchema()\n",
    "df.show()\n",
    "# Kiểm tra số hàng và cột\n",
    "print(f\"Số hàng: {df.count()}, Số cột: {len(df.columns)}\")"
   ]
  },
  {
   "cell_type": "code",
   "execution_count": 17,
   "metadata": {},
   "outputs": [],
   "source": [
    "# Kiểm tra số lượng giá trị null mỗi cột\n",
    "\n",
    "\n",
    "# Loại bỏ giá trị null (nếu cần)\n",
    "df_clean = df.dropna()\n"
   ]
  },
  {
   "cell_type": "code",
   "execution_count": 18,
   "metadata": {},
   "outputs": [
    {
     "name": "stdout",
     "output_type": "stream",
     "text": [
      "root\n",
      " |-- Video ID: string (nullable = true)\n",
      " |-- Title: string (nullable = true)\n",
      " |-- Category_ID: integer (nullable = true)\n",
      " |-- Published At: timestamp (nullable = true)\n",
      " |-- Channel Title: string (nullable = true)\n",
      " |-- View Count: integer (nullable = true)\n",
      " |-- Like Count: integer (nullable = true)\n",
      " |-- Comment Count: integer (nullable = true)\n",
      "\n"
     ]
    }
   ],
   "source": [
    "df_clean.printSchema()"
   ]
  },
  {
   "cell_type": "code",
   "execution_count": 19,
   "metadata": {},
   "outputs": [
    {
     "name": "stdout",
     "output_type": "stream",
     "text": [
      "+-----------+--------------------+-----------+-------------------+----------------+----------+----------+-------------+\n",
      "|   Video ID|               Title|Category_ID|       Published At|   Channel Title|View Count|Like Count|Comment Count|\n",
      "+-----------+--------------------+-----------+-------------------+----------------+----------+----------+-------------+\n",
      "|N-gpD9QqTK0|Nấu đám tiệc kiểu...|         19|2024-12-01 17:44:37|Khoai Lang Thang|   1520244|     37496|         1969|\n",
      "|M_WD9Dxayk8|Đến nhà người lạ ...|         19|2024-11-17 18:57:32|Khoai Lang Thang|   1602732|     28690|         1378|\n",
      "|5AJd2FJUVkc|Ăn 10 món lạ ở kh...|         19|2024-11-05 20:27:52|Khoai Lang Thang|   2130532|     29506|         1236|\n",
      "|92-IbWKp_3k|Gặp nạn ở CHỢ TRỜ...|         19|2024-10-27 18:52:00|Khoai Lang Thang|   1779109|     24698|         1794|\n",
      "|MLBhMV8k6e0|Du lịch ẩm thực C...|         19|2024-10-16 21:05:48|Khoai Lang Thang|   2031031|     28867|         1248|\n",
      "|cJD4fc5l3fM|Châu Phi p8: HÀNG...|         19|2024-09-29 18:04:10|Khoai Lang Thang|   2925686|     35972|         1625|\n",
      "|mzeh6lWhFi4|Du lịch Châu Phi ...|         19|2024-09-10 19:31:20|Khoai Lang Thang|   2733586|     34429|         1541|\n",
      "|NgaZHtCr_a0|Theo người lạ vượ...|         19|2024-08-25 14:48:07|Khoai Lang Thang|   3437252|     51824|         2245|\n",
      "|oL9OX4e2Kl4|Tìm ăn trái thần ...|         19|2024-08-12 00:40:29|Khoai Lang Thang|   3584002|     45841|         2445|\n",
      "|IJ24VtLd1jU|2 ngày 1 đêm khôn...|         19|2024-08-07 22:49:32|Khoai Lang Thang|   3282410|     35258|         1397|\n",
      "|xEnYZ55FCG8|Chợ trời Châu Phi...|         19|2024-08-01 20:25:56|Khoai Lang Thang|   5242930|     49466|         2993|\n",
      "|aoFeasRsiyk|Ẩm thực đường phố...|         19|2024-07-10 17:03:36|Khoai Lang Thang|   2890252|     38724|         1863|\n",
      "|0Q8fkicguR8|Du lịch Châu Phi ...|         19|2024-07-03 20:24:10|Khoai Lang Thang|   2145024|     34792|         1587|\n",
      "|E-JMv4ebt18|Du lịch Mỹ tự túc...|         19|2024-05-16 17:08:36|Khoai Lang Thang|   1204102|     27169|          881|\n",
      "|7v7EBziokmM|Du lịch Mỹ tự túc...|         19|2024-05-03 19:20:37|Khoai Lang Thang|   1787991|     22571|          917|\n",
      "|7TdSEX4JFdw|Thiên đường cám d...|         19|2024-04-20 20:13:17|Khoai Lang Thang|   2819656|     35112|         1269|\n",
      "|5cW2Kj4_7HY|Choáng ngợp thung...|         19|2024-04-09 15:34:06|Khoai Lang Thang|   2872164|     34458|         1859|\n",
      "|FDMDKktG75I|Lặn biển tìm hải ...|         19|2024-03-31 22:27:10|Khoai Lang Thang|   3354618|     32408|         1167|\n",
      "|NTEgu8uWS1I|Du lịch Mỹ tự túc...|         19|2024-03-30 21:35:47|Khoai Lang Thang|   2116107|     35121|         1943|\n",
      "|rMBaVOW4AE8|Du lịch Mỹ tự túc...|         19|2024-03-23 15:37:08|Khoai Lang Thang|   3503158|     51271|         2076|\n",
      "+-----------+--------------------+-----------+-------------------+----------------+----------+----------+-------------+\n",
      "only showing top 20 rows\n",
      "\n",
      "Số hàng: 284, Số cột: 8\n"
     ]
    }
   ],
   "source": [
    "df_clean.show()\n",
    "print(f\"Số hàng: {df_clean.count()}, Số cột: {len(df_clean.columns)}\")"
   ]
  },
  {
   "cell_type": "code",
   "execution_count": 20,
   "metadata": {},
   "outputs": [
    {
     "name": "stdout",
     "output_type": "stream",
     "text": [
      "+-------+-----------+--------------------+------------------+----------------+------------------+------------------+------------------+\n",
      "|summary|   Video ID|               Title|       Category_ID|   Channel Title|        View Count|        Like Count|     Comment Count|\n",
      "+-------+-----------+--------------------+------------------+----------------+------------------+------------------+------------------+\n",
      "|  count|        284|                 284|               284|             284|               284|               284|               284|\n",
      "|   mean|       NULL|                NULL|19.433098591549296|            NULL|2267935.3767605633|26922.975352112677|1581.9788732394366|\n",
      "| stddev|       NULL|                NULL|2.2633419685435197|            NULL|1518302.5854609765| 16322.17740844484|1292.2597402616855|\n",
      "|    min|-VfFP4zpkZo|\"\"\"Tết Kate\"\" ở V...|                10|Khoai Lang Thang|             59105|               960|                66|\n",
      "|    max|zs9xbXCOT6Y|🇹🇭Đi về phương ...|                24|Khoai Lang Thang|           8107261|            137707|             13160|\n",
      "+-------+-----------+--------------------+------------------+----------------+------------------+------------------+------------------+\n",
      "\n"
     ]
    }
   ],
   "source": [
    "# Mô tả thống kê\n",
    "df_clean.describe().show()\n",
    "\n",
    "# Thống kê lượt xem (views)\n"
   ]
  },
  {
   "cell_type": "markdown",
   "metadata": {},
   "source": [
    "- Tạo bảng để sử dụng spark sql"
   ]
  },
  {
   "cell_type": "code",
   "execution_count": 21,
   "metadata": {},
   "outputs": [],
   "source": [
    "from pyspark.sql import SparkSession\n",
    "df_clean.createOrReplaceTempView(\"video\")"
   ]
  },
  {
   "cell_type": "markdown",
   "metadata": {},
   "source": [
    "1.2. Tính tổng lượt xem, tổng số lượng video theo mỗi category"
   ]
  },
  {
   "cell_type": "markdown",
   "metadata": {},
   "source": [
    "1.2.1 TỔng lượt xem của mỗi category"
   ]
  },
  {
   "cell_type": "markdown",
   "metadata": {},
   "source": [
    "- Sử dụng spark dataframe"
   ]
  },
  {
   "cell_type": "code",
   "execution_count": 22,
   "metadata": {},
   "outputs": [
    {
     "name": "stdout",
     "output_type": "stream",
     "text": [
      "+-----------+-----------+\n",
      "|Category_ID|Total Views|\n",
      "+-----------+-----------+\n",
      "|         19|  590550047|\n",
      "|         24|   36836146|\n",
      "|         10|   11178060|\n",
      "|         22|    5077519|\n",
      "|         15|     451875|\n",
      "+-----------+-----------+\n",
      "\n"
     ]
    }
   ],
   "source": [
    "from pyspark.sql.functions import col, sum\n",
    "\n",
    "# Chuyển cột \"View Count\" sang kiểu Integer\n",
    "df_clean = df_clean.withColumn(\"View Count\", col(\"View Count\").cast(\"int\"))\n",
    "\n",
    "# Thực hiện nhóm và tính tổng số video theo category\n",
    "df_category=df_clean.groupBy(\"Category_ID\") \\\n",
    "                    .agg(sum(\"View Count\").alias(\"Total Views\")) \\\n",
    "                    .orderBy(col(\"Total Views\").desc()) \n",
    "df_category.show()\n"
   ]
  },
  {
   "cell_type": "markdown",
   "metadata": {},
   "source": [
    "- Sử dụng spark sql"
   ]
  },
  {
   "cell_type": "code",
   "execution_count": 23,
   "metadata": {},
   "outputs": [
    {
     "name": "stdout",
     "output_type": "stream",
     "text": [
      "+-----------+----------+\n",
      "|Category_ID|Total_view|\n",
      "+-----------+----------+\n",
      "|         15|    451875|\n",
      "|         22|   5077519|\n",
      "|         10|  11178060|\n",
      "|         24|  36836146|\n",
      "|         19| 590550047|\n",
      "+-----------+----------+\n",
      "\n"
     ]
    }
   ],
   "source": [
    "from pyspark.sql.functions import col, sum\n",
    "\n",
    "spark.sql(\"\"\"select \n",
    "                Category_ID, \n",
    "                sum(`View Count`) as Total_view\n",
    "            from \n",
    "                Video \n",
    "            group by \n",
    "                Category_ID\n",
    "            order by \n",
    "                Total_view\"\"\").show()\n"
   ]
  },
  {
   "cell_type": "markdown",
   "metadata": {},
   "source": [
    "1.2.2. Số lượng video của mỗi category"
   ]
  },
  {
   "cell_type": "markdown",
   "metadata": {},
   "source": [
    "- Sử dụng spark dataframe"
   ]
  },
  {
   "cell_type": "code",
   "execution_count": 24,
   "metadata": {},
   "outputs": [
    {
     "name": "stdout",
     "output_type": "stream",
     "text": [
      "+-----------+-----------+\n",
      "|Category_ID|Video Count|\n",
      "+-----------+-----------+\n",
      "|         19|        236|\n",
      "|         24|         35|\n",
      "|         10|          7|\n",
      "|         22|          5|\n",
      "|         15|          1|\n",
      "+-----------+-----------+\n",
      "\n"
     ]
    }
   ],
   "source": [
    "from pyspark.sql.functions import count\n",
    "\n",
    "# Nhóm dữ liệu theo Category_ID và sau đó đếm số lần xuất hiện của Video ID\n",
    "df_category_video=df_clean.groupBy(\"Category_ID\") \\\n",
    "    .agg(count(\"Video ID\").alias(\"Video Count\")) \\\n",
    "    .orderBy(col(\"Video Count\").desc()) \n",
    "df_category_video.show()\n"
   ]
  },
  {
   "cell_type": "markdown",
   "metadata": {},
   "source": [
    "- Sử dụng spark sql"
   ]
  },
  {
   "cell_type": "code",
   "execution_count": 48,
   "metadata": {},
   "outputs": [
    {
     "name": "stdout",
     "output_type": "stream",
     "text": [
      "+-----------+-----------+\n",
      "|Category_ID|Video_count|\n",
      "+-----------+-----------+\n",
      "|         19|        236|\n",
      "|         24|         35|\n",
      "|         10|          7|\n",
      "|         22|          5|\n",
      "|         15|          1|\n",
      "+-----------+-----------+\n",
      "\n"
     ]
    }
   ],
   "source": [
    "from pyspark.sql.functions import count\n",
    "\n",
    "spark.sql(\"\"\"select \n",
    "                Category_ID, \n",
    "                count(`Video ID`) as Video_count\n",
    "            from \n",
    "                Video \n",
    "            group by \n",
    "                Category_ID\n",
    "            order by \n",
    "                Video_count desc\"\"\").show()\n"
   ]
  },
  {
   "cell_type": "markdown",
   "metadata": {},
   "source": [
    "1.4. Số lượng video đăng tải mỗi năm"
   ]
  },
  {
   "cell_type": "markdown",
   "metadata": {},
   "source": [
    "- SỬ dụng dataframe"
   ]
  },
  {
   "cell_type": "code",
   "execution_count": 32,
   "metadata": {},
   "outputs": [
    {
     "name": "stdout",
     "output_type": "stream",
     "text": [
      "+----+-----+\n",
      "|year|count|\n",
      "+----+-----+\n",
      "|2017|   48|\n",
      "|2018|   58|\n",
      "|2019|   50|\n",
      "|2020|   28|\n",
      "|2021|   16|\n",
      "|2022|   26|\n",
      "|2023|   35|\n",
      "|2024|   23|\n",
      "+----+-----+\n",
      "\n"
     ]
    }
   ],
   "source": [
    "from pyspark.sql.functions import year, month\n",
    "\n",
    "# Thêm cột năm, tháng nếu có cột ngày phát hành\n",
    "df_clean = df_clean.withColumn(\"year\", year(col(\"Published At\"))) \\\n",
    "                   .withColumn(\"month\", month(col(\"Published At\")))\n",
    "\n",
    "# Số lượng video theo năm\n",
    "df_count_video_year=df_clean.groupBy(\"year\").count().orderBy(\"year\")\n",
    "df_count_video_year.show()\n"
   ]
  },
  {
   "cell_type": "markdown",
   "metadata": {},
   "source": [
    "- Sử dụng spark sql"
   ]
  },
  {
   "cell_type": "code",
   "execution_count": 33,
   "metadata": {},
   "outputs": [
    {
     "name": "stdout",
     "output_type": "stream",
     "text": [
      "+----+----------+\n",
      "|Year|Total_view|\n",
      "+----+----------+\n",
      "|2024|  64707611|\n",
      "|2023|  97253424|\n",
      "|2022|  75388408|\n",
      "|2021|  38998764|\n",
      "|2020|  68516080|\n",
      "|2019| 107469646|\n",
      "|2018| 137904607|\n",
      "|2017|  53855107|\n",
      "+----+----------+\n",
      "\n"
     ]
    }
   ],
   "source": [
    "from pyspark.sql.functions import year, month\n",
    "\n",
    "\n",
    "spark.sql(\"\"\"\n",
    "            SELECT \n",
    "                YEAR(`Published At`) as Year, \n",
    "                SUM(`View Count`) as Total_view\n",
    "            FROM \n",
    "                Video \n",
    "            GROUP BY \n",
    "                YEAR(`Published At`)\n",
    "            ORDER BY \n",
    "                YEAR(`Published At`) DESC \n",
    "        \"\"\").show()\n"
   ]
  },
  {
   "cell_type": "markdown",
   "metadata": {},
   "source": [
    "1.6 Tỉ lệ tương tác theo video"
   ]
  },
  {
   "cell_type": "markdown",
   "metadata": {},
   "source": [
    "- Sử dụng spark dataframe"
   ]
  },
  {
   "cell_type": "code",
   "execution_count": 36,
   "metadata": {},
   "outputs": [
    {
     "name": "stdout",
     "output_type": "stream",
     "text": [
      "+-----------+--------------------+--------------------+\n",
      "|   Video ID|               Title|     Ti_le_tuong_tac|\n",
      "+-----------+--------------------+--------------------+\n",
      "|XdbjuI86zhM|Hành trình xây 30...| 0.07914200821377348|\n",
      "|a0RLS40Qh-A|Việt Nam chuyện c...| 0.07401455549595638|\n",
      "|36ms9Si7f8I|XIN LỖI - KHOAI |...| 0.05627321892772128|\n",
      "|q5EPifZQK8I|BALI DU KÝ |Du lị...| 0.05039767513000918|\n",
      "|xXTcKSxGClQ|Khoai đi làm nhân...| 0.04872383460159695|\n",
      "|TrbtMqHSmcc|800 NGÀY ĐI KHẮP ...| 0.04163283890996895|\n",
      "|wjDs5zwRlMA|(Official Music V...| 0.03859600280123764|\n",
      "|kL-XgVsV8EI|Chiang Mai - Khoa...| 0.03678875611256841|\n",
      "|zMn9mithu84|Biển hoa khổng lồ...| 0.03601119164946227|\n",
      "|CnlXly4_b9Y|Kỷ niệm 1000 subs...|0.032958957796567115|\n",
      "|quZy6AhGmEc|KHOAI LANG THANG ...|0.032448847884032295|\n",
      "|OWlik0yAwoc|Cuộc sống Bản Phù...| 0.03187260153091588|\n",
      "|JYULx2AItoI|(Lofi Ver.) 'em v...| 0.03140695915279879|\n",
      "|SYcnSZfXwWw|Em và Những Ng...|0.030660321797922212|\n",
      "|RvMcyBS8SgU|Nấu Buffet cho em...|0.030424938025804687|\n",
      "|5ta7YnZ1K_o|Khám phá Sơn La, ...|0.030185685932506125|\n",
      "|V_2_CPiTDR4|Nấu tiệc Miền Tây...|  0.0295407755862526|\n",
      "|T02aU8qpshQ|10 năm & BÍ MẬT C...| 0.02926931746921145|\n",
      "|SLpU2LGv54g|(Official MV) Em ...|0.029211199642519933|\n",
      "|wX-TrSDnAys|Tiệc nướng dã chi...| 0.02893649585103135|\n",
      "+-----------+--------------------+--------------------+\n",
      "only showing top 20 rows\n",
      "\n"
     ]
    }
   ],
   "source": [
    "df_tuong_tac = df_clean.selectExpr(\"`Video ID`\",\\\n",
    "                                   \"Title\",\\\n",
    "                                   \"(`Like Count` + `Comment Count`) / `View Count` as Ti_le_tuong_tac\")\\\n",
    "                        .orderBy(\"Ti_le_tuong_tac\", ascending=False)\n",
    "\n",
    "df_tuong_tac.show()\n"
   ]
  },
  {
   "cell_type": "markdown",
   "metadata": {},
   "source": [
    "- Sử dụng spark sql"
   ]
  },
  {
   "cell_type": "code",
   "execution_count": 37,
   "metadata": {},
   "outputs": [
    {
     "name": "stdout",
     "output_type": "stream",
     "text": [
      "+-----------+--------------------+--------------------+\n",
      "|   Video ID|               Title|     Ti_le_tuong_tac|\n",
      "+-----------+--------------------+--------------------+\n",
      "|XdbjuI86zhM|Hành trình xây 30...| 0.07914200821377348|\n",
      "|a0RLS40Qh-A|Việt Nam chuyện c...| 0.07401455549595638|\n",
      "|36ms9Si7f8I|XIN LỖI - KHOAI |...| 0.05627321892772128|\n",
      "|q5EPifZQK8I|BALI DU KÝ |Du lị...| 0.05039767513000918|\n",
      "|xXTcKSxGClQ|Khoai đi làm nhân...| 0.04872383460159695|\n",
      "|TrbtMqHSmcc|800 NGÀY ĐI KHẮP ...| 0.04163283890996895|\n",
      "|wjDs5zwRlMA|(Official Music V...| 0.03859600280123764|\n",
      "|kL-XgVsV8EI|Chiang Mai - Khoa...| 0.03678875611256841|\n",
      "|zMn9mithu84|Biển hoa khổng lồ...| 0.03601119164946227|\n",
      "|CnlXly4_b9Y|Kỷ niệm 1000 subs...|0.032958957796567115|\n",
      "|quZy6AhGmEc|KHOAI LANG THANG ...|0.032448847884032295|\n",
      "|OWlik0yAwoc|Cuộc sống Bản Phù...| 0.03187260153091588|\n",
      "|JYULx2AItoI|(Lofi Ver.) 'em v...| 0.03140695915279879|\n",
      "|SYcnSZfXwWw|Em và Những Ng...|0.030660321797922212|\n",
      "|RvMcyBS8SgU|Nấu Buffet cho em...|0.030424938025804687|\n",
      "|5ta7YnZ1K_o|Khám phá Sơn La, ...|0.030185685932506125|\n",
      "|V_2_CPiTDR4|Nấu tiệc Miền Tây...|  0.0295407755862526|\n",
      "|T02aU8qpshQ|10 năm & BÍ MẬT C...| 0.02926931746921145|\n",
      "|SLpU2LGv54g|(Official MV) Em ...|0.029211199642519933|\n",
      "|wX-TrSDnAys|Tiệc nướng dã chi...| 0.02893649585103135|\n",
      "+-----------+--------------------+--------------------+\n",
      "only showing top 20 rows\n",
      "\n"
     ]
    }
   ],
   "source": [
    "spark.sql(\"\"\"\n",
    "            SELECT \n",
    "                `Video ID`, Title,\n",
    "                (`Like Count` + `Comment Count`) / `View Count` as Ti_le_tuong_tac\n",
    "            FROM \n",
    "                Video \n",
    "            ORDER BY \n",
    "                Ti_le_tuong_tac DESC \n",
    "        \"\"\").show()"
   ]
  },
  {
   "cell_type": "markdown",
   "metadata": {},
   "source": [
    "1.8. Lượt View, Like, Comment trung bình cho mỗi video"
   ]
  },
  {
   "cell_type": "markdown",
   "metadata": {},
   "source": [
    "- Sử dụng spark dataframe"
   ]
  },
  {
   "cell_type": "code",
   "execution_count": 40,
   "metadata": {},
   "outputs": [
    {
     "name": "stdout",
     "output_type": "stream",
     "text": [
      "+-----------+----------+-----------------------+----------+-----------------------+-------------+-------------------------+\n",
      "|Total_Video|Total_View|Average_Views_Per_Video|Total_Like|Average_Likes_Per_Video|Total_Comment|Average_Comment_Per_Video|\n",
      "+-----------+----------+-----------------------+----------+-----------------------+-------------+-------------------------+\n",
      "|        284| 644093647|     2267935.3767605633|   7646125|     26922.975352112677|       449282|       1581.9788732394366|\n",
      "+-----------+----------+-----------------------+----------+-----------------------+-------------+-------------------------+\n",
      "\n"
     ]
    }
   ],
   "source": [
    "from pyspark.sql.functions import expr\n",
    "\n",
    "View_tb = df_clean.agg( \n",
    "                            (expr(\"COUNT(`Video ID`)\")).alias(\"Total_Video\"),\n",
    "                            (expr(\"SUM(`View Count`)\")).alias(\"Total_View\"),\n",
    "                            (expr(\"SUM(`View Count`)\") / expr(\"COUNT(`Video ID`)\")).alias(\"Average_Views_Per_Video\"),\n",
    "                            (expr(\"SUM(`Like Count`)\")).alias(\"Total_Like\"),\n",
    "                            (expr(\"SUM(`Like Count`)\") / expr(\"COUNT(`Video ID`)\")).alias(\"Average_Likes_Per_Video\"),\n",
    "                            (expr(\"SUM(`Comment Count`)\")).alias(\"Total_Comment\"),\n",
    "                            (expr(\"SUM(`Comment Count`)\") / expr(\"COUNT(`Video ID`)\")).alias(\"Average_Comment_Per_Video\")\n",
    ")\n",
    "\n",
    "View_tb.show()\n"
   ]
  },
  {
   "cell_type": "markdown",
   "metadata": {},
   "source": [
    "- Sử dụng spark sql"
   ]
  },
  {
   "cell_type": "code",
   "execution_count": 41,
   "metadata": {},
   "outputs": [
    {
     "name": "stdout",
     "output_type": "stream",
     "text": [
      "+-----------+----------+-----------------------+----------+-----------------------+-------------+-------------------------+\n",
      "|Total_Video|Total_View|Average_Views_Per_Video|Total_Like|Average_Likes_Per_Video|Total_Comment|Average_Comment_Per_Video|\n",
      "+-----------+----------+-----------------------+----------+-----------------------+-------------+-------------------------+\n",
      "|        284| 644093647|     2267935.3767605633|   7646125|     26922.975352112677|       449282|       1581.9788732394366|\n",
      "+-----------+----------+-----------------------+----------+-----------------------+-------------+-------------------------+\n",
      "\n"
     ]
    }
   ],
   "source": [
    "from pyspark.sql.functions import expr\n",
    "\n",
    "spark.sql(\"\"\"\n",
    "    SELECT \n",
    "        COUNT(`Video ID`) AS Total_Video,\n",
    "        SUM(`View Count`) AS Total_View,\n",
    "        SUM(`View Count`) / COUNT(`Video ID`) AS Average_Views_Per_Video,\n",
    "        SUM(`Like Count`) AS Total_Like,\n",
    "        SUM(`Like Count`) / COUNT(`Video ID`) AS Average_Likes_Per_Video,\n",
    "        SUM(`Comment Count`) AS Total_Comment,\n",
    "        SUM(`Comment Count`) / COUNT(`Video ID`) AS Average_Comment_Per_Video\n",
    "    FROM video\n",
    "\"\"\").show()\n"
   ]
  },
  {
   "cell_type": "markdown",
   "metadata": {},
   "source": [
    "1.10. Tính view trung bình, số lượng like trung bình, số lượng comment trung bình cho mỗi video theo từng năm/tháng"
   ]
  },
  {
   "cell_type": "markdown",
   "metadata": {},
   "source": [
    "- Sử dụng spark dataframe"
   ]
  },
  {
   "cell_type": "code",
   "execution_count": 44,
   "metadata": {},
   "outputs": [
    {
     "name": "stdout",
     "output_type": "stream",
     "text": [
      "+----+-----+-----------+----------+-----------------------+----------+-----------------------+-------------+-------------------------+\n",
      "|Year|month|Total_Video|Total_View|Average_Views_Per_Video|Total_Like|Average_Likes_Per_Video|Total_Comment|Average_Comment_Per_Video|\n",
      "+----+-----+-----------+----------+-----------------------+----------+-----------------------+-------------+-------------------------+\n",
      "|2017|    2|          2|   1224273|               612136.5|     13479|                 6739.5|         1217|                    608.5|\n",
      "|2017|    3|          5|   4008293|               801658.6|     40684|                 8136.8|         2694|                    538.8|\n",
      "|2017|    4|          5|   2757327|               551465.4|     29915|                 5983.0|         2252|                    450.4|\n",
      "|2017|    5|          3|   1821947|      607315.6666666666|     18036|                 6012.0|         1047|                    349.0|\n",
      "|2017|    6|          8|   5491449|             686431.125|     56805|               7100.625|         3713|                  464.125|\n",
      "|2017|    7|          3|   2188194|               729398.0|     22539|                 7513.0|         2078|        692.6666666666666|\n",
      "|2017|    8|          5|   4547832|               909566.4|     60288|                12057.6|         5433|                   1086.6|\n",
      "|2017|    9|          7|  10114421|     1444917.2857142857|    101419|      14488.42857142857|         5020|        717.1428571428571|\n",
      "|2017|   10|          4|   6767902|              1691975.5|     79706|                19926.5|         7511|                  1877.75|\n",
      "|2017|   11|          1|   5891310|              5891310.0|     46856|                46856.0|         3031|                   3031.0|\n",
      "|2017|   12|          5|   9042159|              1808431.8|     96777|                19355.4|        11155|                   2231.0|\n",
      "|2018|    1|          5|  18087910|              3617582.0|    157047|                31409.4|        11481|                   2296.2|\n",
      "|2018|    2|          4|  10724967|             2681241.75|     95549|               23887.25|         8519|                  2129.75|\n",
      "|2018|    3|          4|   8403608|              2100902.0|     85350|                21337.5|         6781|                  1695.25|\n",
      "|2018|    4|          5|   7973709|              1594741.8|    101371|                20274.2|         5638|                   1127.6|\n",
      "|2018|    5|          5|  15473556|              3094711.2|    119264|                23852.8|         9424|                   1884.8|\n",
      "|2018|    6|          5|   8909910|              1781982.0|    101205|                20241.0|         9402|                   1880.4|\n",
      "|2018|    7|          5|  11923545|              2384709.0|    114958|                22991.6|         7885|                   1577.0|\n",
      "|2018|    8|          5|  12074053|              2414810.6|    101401|                20280.2|         7926|                   1585.2|\n",
      "|2018|    9|          5|  11279287|              2255857.4|    100743|                20148.6|         7537|                   1507.4|\n",
      "+----+-----+-----------+----------+-----------------------+----------+-----------------------+-------------+-------------------------+\n",
      "only showing top 20 rows\n",
      "\n"
     ]
    }
   ],
   "source": [
    "from pyspark.sql.functions import expr\n",
    "\n",
    "View_Like_Comment_tb_year_month = df_clean.groupby(\"Year\",\"month\")\\\n",
    "                        .agg( \n",
    "                            (expr(\"COUNT(`Video ID`)\")).alias(\"Total_Video\"),\n",
    "                            (expr(\"SUM(`View Count`)\")).alias(\"Total_View\"),\n",
    "                            (expr(\"SUM(`View Count`)\") / expr(\"COUNT(`Video ID`)\")).alias(\"Average_Views_Per_Video\"),\n",
    "                            (expr(\"SUM(`Like Count`)\")).alias(\"Total_Like\"),\n",
    "                            (expr(\"SUM(`Like Count`)\") / expr(\"COUNT(`Video ID`)\")).alias(\"Average_Likes_Per_Video\"),\n",
    "                            (expr(\"SUM(`Comment Count`)\")).alias(\"Total_Comment\"),\n",
    "                            (expr(\"SUM(`Comment Count`)\") / expr(\"COUNT(`Video ID`)\")).alias(\"Average_Comment_Per_Video\"))\\\n",
    "                        .orderBy(\"year\",\"month\")\n",
    "\n",
    "View_Like_Comment_tb_year_month.show()\n"
   ]
  },
  {
   "cell_type": "markdown",
   "metadata": {},
   "source": [
    "- Sử dụng spark sql"
   ]
  },
  {
   "cell_type": "code",
   "execution_count": 45,
   "metadata": {},
   "outputs": [
    {
     "name": "stdout",
     "output_type": "stream",
     "text": [
      "+----+-----+-----------+----------+-----------------------+----------+-----------------------+-------------+-------------------------+\n",
      "|Year|Month|Total_Video|Total_View|Average_Views_Per_Video|Total_Like|Average_Likes_Per_Video|Total_Comment|Average_Comment_Per_Video|\n",
      "+----+-----+-----------+----------+-----------------------+----------+-----------------------+-------------+-------------------------+\n",
      "|2017|    2|          2|   1224273|               612136.5|     13479|                 6739.5|         1217|                    608.5|\n",
      "|2017|    3|          5|   4008293|               801658.6|     40684|                 8136.8|         2694|                    538.8|\n",
      "|2017|    4|          5|   2757327|               551465.4|     29915|                 5983.0|         2252|                    450.4|\n",
      "|2017|    5|          3|   1821947|      607315.6666666666|     18036|                 6012.0|         1047|                    349.0|\n",
      "|2017|    6|          8|   5491449|             686431.125|     56805|               7100.625|         3713|                  464.125|\n",
      "|2017|    7|          3|   2188194|               729398.0|     22539|                 7513.0|         2078|        692.6666666666666|\n",
      "|2017|    8|          5|   4547832|               909566.4|     60288|                12057.6|         5433|                   1086.6|\n",
      "|2017|    9|          7|  10114421|     1444917.2857142857|    101419|      14488.42857142857|         5020|        717.1428571428571|\n",
      "|2017|   10|          4|   6767902|              1691975.5|     79706|                19926.5|         7511|                  1877.75|\n",
      "|2017|   11|          1|   5891310|              5891310.0|     46856|                46856.0|         3031|                   3031.0|\n",
      "|2017|   12|          5|   9042159|              1808431.8|     96777|                19355.4|        11155|                   2231.0|\n",
      "|2018|    1|          5|  18087910|              3617582.0|    157047|                31409.4|        11481|                   2296.2|\n",
      "|2018|    2|          4|  10724967|             2681241.75|     95549|               23887.25|         8519|                  2129.75|\n",
      "|2018|    3|          4|   8403608|              2100902.0|     85350|                21337.5|         6781|                  1695.25|\n",
      "|2018|    4|          5|   7973709|              1594741.8|    101371|                20274.2|         5638|                   1127.6|\n",
      "|2018|    5|          5|  15473556|              3094711.2|    119264|                23852.8|         9424|                   1884.8|\n",
      "|2018|    6|          5|   8909910|              1781982.0|    101205|                20241.0|         9402|                   1880.4|\n",
      "|2018|    7|          5|  11923545|              2384709.0|    114958|                22991.6|         7885|                   1577.0|\n",
      "|2018|    8|          5|  12074053|              2414810.6|    101401|                20280.2|         7926|                   1585.2|\n",
      "|2018|    9|          5|  11279287|              2255857.4|    100743|                20148.6|         7537|                   1507.4|\n",
      "+----+-----+-----------+----------+-----------------------+----------+-----------------------+-------------+-------------------------+\n",
      "only showing top 20 rows\n",
      "\n"
     ]
    }
   ],
   "source": [
    "from pyspark.sql.functions import expr\n",
    "\n",
    "spark.sql(\"\"\"\n",
    "    SELECT \n",
    "        YEAR(`Published At`) as Year,\n",
    "        MONTH(`Published At`) as Month,\n",
    "        COUNT(`Video ID`) AS Total_Video,\n",
    "        SUM(`View Count`) AS Total_View,\n",
    "        SUM(`View Count`) / COUNT(`Video ID`) AS Average_Views_Per_Video,\n",
    "        SUM(`Like Count`) AS Total_Like,\n",
    "        SUM(`Like Count`) / COUNT(`Video ID`) AS Average_Likes_Per_Video,\n",
    "        SUM(`Comment Count`) AS Total_Comment,\n",
    "        SUM(`Comment Count`) / COUNT(`Video ID`) AS Average_Comment_Per_Video\n",
    "    FROM video\n",
    "    GROUP BY Year, Month\n",
    "    ORDER BY Year, Month\n",
    "\"\"\").show()\n"
   ]
  }
 ],
 "metadata": {
  "kernelspec": {
   "display_name": "Python 3",
   "language": "python",
   "name": "python3"
  },
  "language_info": {
   "codemirror_mode": {
    "name": "ipython",
    "version": 3
   },
   "file_extension": ".py",
   "mimetype": "text/x-python",
   "name": "python",
   "nbconvert_exporter": "python",
   "pygments_lexer": "ipython3",
   "version": "3.10.11"
  }
 },
 "nbformat": 4,
 "nbformat_minor": 2
}
