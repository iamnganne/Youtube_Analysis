{
 "cells": [
  {
   "cell_type": "code",
   "execution_count": 3,
   "metadata": {},
   "outputs": [
    {
     "name": "stdout",
     "output_type": "stream",
     "text": [
      "root\n",
      " |-- Video ID: string (nullable = true)\n",
      " |-- Title: string (nullable = true)\n",
      " |-- Category_ID: integer (nullable = true)\n",
      " |-- Published At: timestamp (nullable = true)\n",
      " |-- Channel Title: string (nullable = true)\n",
      " |-- View Count: integer (nullable = true)\n",
      " |-- Like Count: integer (nullable = true)\n",
      " |-- Comment Count: integer (nullable = true)\n",
      "\n",
      "+-----------+--------------------+-----------+-------------------+----------------+----------+----------+-------------+\n",
      "|   Video ID|               Title|Category_ID|       Published At|   Channel Title|View Count|Like Count|Comment Count|\n",
      "+-----------+--------------------+-----------+-------------------+----------------+----------+----------+-------------+\n",
      "|N-gpD9QqTK0|Nấu đám tiệc kiểu...|         19|2024-12-01 17:44:37|Khoai Lang Thang|   1520244|     37496|         1969|\n",
      "|M_WD9Dxayk8|Đến nhà người lạ ...|         19|2024-11-17 18:57:32|Khoai Lang Thang|   1602732|     28690|         1378|\n",
      "|5AJd2FJUVkc|Ăn 10 món lạ ở kh...|         19|2024-11-05 20:27:52|Khoai Lang Thang|   2130532|     29506|         1236|\n",
      "|92-IbWKp_3k|Gặp nạn ở CHỢ TRỜ...|         19|2024-10-27 18:52:00|Khoai Lang Thang|   1779109|     24698|         1794|\n",
      "|MLBhMV8k6e0|Du lịch ẩm thực C...|         19|2024-10-16 21:05:48|Khoai Lang Thang|   2031031|     28867|         1248|\n",
      "|cJD4fc5l3fM|Châu Phi p8: HÀNG...|         19|2024-09-29 18:04:10|Khoai Lang Thang|   2925686|     35972|         1625|\n",
      "|mzeh6lWhFi4|Du lịch Châu Phi ...|         19|2024-09-10 19:31:20|Khoai Lang Thang|   2733586|     34429|         1541|\n",
      "|NgaZHtCr_a0|Theo người lạ vượ...|         19|2024-08-25 14:48:07|Khoai Lang Thang|   3437252|     51824|         2245|\n",
      "|oL9OX4e2Kl4|Tìm ăn trái thần ...|         19|2024-08-12 00:40:29|Khoai Lang Thang|   3584002|     45841|         2445|\n",
      "|IJ24VtLd1jU|2 ngày 1 đêm khôn...|         19|2024-08-07 22:49:32|Khoai Lang Thang|   3282410|     35258|         1397|\n",
      "|xEnYZ55FCG8|Chợ trời Châu Phi...|         19|2024-08-01 20:25:56|Khoai Lang Thang|   5242930|     49466|         2993|\n",
      "|aoFeasRsiyk|Ẩm thực đường phố...|         19|2024-07-10 17:03:36|Khoai Lang Thang|   2890252|     38724|         1863|\n",
      "|0Q8fkicguR8|Du lịch Châu Phi ...|         19|2024-07-03 20:24:10|Khoai Lang Thang|   2145024|     34792|         1587|\n",
      "|E-JMv4ebt18|Du lịch Mỹ tự túc...|         19|2024-05-16 17:08:36|Khoai Lang Thang|   1204102|     27169|          881|\n",
      "|7v7EBziokmM|Du lịch Mỹ tự túc...|         19|2024-05-03 19:20:37|Khoai Lang Thang|   1787991|     22571|          917|\n",
      "|7TdSEX4JFdw|Thiên đường cám d...|         19|2024-04-20 20:13:17|Khoai Lang Thang|   2819656|     35112|         1269|\n",
      "|5cW2Kj4_7HY|Choáng ngợp thung...|         19|2024-04-09 15:34:06|Khoai Lang Thang|   2872164|     34458|         1859|\n",
      "|FDMDKktG75I|Lặn biển tìm hải ...|         19|2024-03-31 22:27:10|Khoai Lang Thang|   3354618|     32408|         1167|\n",
      "|NTEgu8uWS1I|Du lịch Mỹ tự túc...|         19|2024-03-30 21:35:47|Khoai Lang Thang|   2116107|     35121|         1943|\n",
      "|rMBaVOW4AE8|Du lịch Mỹ tự túc...|         19|2024-03-23 15:37:08|Khoai Lang Thang|   3503158|     51271|         2076|\n",
      "+-----------+--------------------+-----------+-------------------+----------------+----------+----------+-------------+\n",
      "only showing top 20 rows\n",
      "\n",
      "Số hàng: 284, Số cột: 8\n"
     ]
    }
   ],
   "source": [
    "from pyspark.sql import SparkSession\n",
    "from pyspark.sql.types import StructType, StructField, StringType, IntegerType, TimestampType\n",
    "\n",
    "# Tạo SparkSession\n",
    "spark = SparkSession.builder \\\n",
    "    .appName(\"Video Analysis\") \\\n",
    "    .getOrCreate()\n",
    "\n",
    "\n",
    "# Định nghĩa schema mới\n",
    "video_schema = StructType([\n",
    "    StructField(\"Video ID\", StringType(), True),\n",
    "    StructField(\"Title\", StringType(), True),\n",
    "    StructField(\"Category_ID\", IntegerType(), True),\n",
    "    StructField(\"Published At\", TimestampType(), True),\n",
    "    StructField(\"Channel Title\", StringType(), True),\n",
    "    StructField(\"View Count\", IntegerType(), True),\n",
    "    StructField(\"Like Count\", IntegerType(), True),\n",
    "    StructField(\"Comment Count\", IntegerType(), True),\n",
    "])\n",
    "\n",
    "# Đọc file CSV với schema mới\n",
    "file_path = \"video.csv\"\n",
    "df = spark.read.option(\"header\", \"true\").schema(video_schema).csv(file_path)\n",
    "\n",
    "# Kiểm tra schema và hiển thị dữ liệu\n",
    "df.printSchema()\n",
    "df.show()\n",
    "# Kiểm tra số hàng và cột\n",
    "print(f\"Số hàng: {df.count()}, Số cột: {len(df.columns)}\")"
   ]
  },
  {
   "cell_type": "code",
   "execution_count": null,
   "metadata": {},
   "outputs": [],
   "source": [
    "# Kiểm tra số lượng giá trị null mỗi cột\n",
    "\n",
    "\n",
    "# Loại bỏ giá trị null (nếu cần)\n",
    "df_clean = df.dropna()\n"
   ]
  },
  {
   "cell_type": "code",
   "execution_count": 5,
   "metadata": {},
   "outputs": [
    {
     "name": "stdout",
     "output_type": "stream",
     "text": [
      "root\n",
      " |-- Video ID: string (nullable = true)\n",
      " |-- Title: string (nullable = true)\n",
      " |-- Category_ID: integer (nullable = true)\n",
      " |-- Published At: timestamp (nullable = true)\n",
      " |-- Channel Title: string (nullable = true)\n",
      " |-- View Count: integer (nullable = true)\n",
      " |-- Like Count: integer (nullable = true)\n",
      " |-- Comment Count: integer (nullable = true)\n",
      "\n"
     ]
    },
    {
     "ename": "",
     "evalue": "",
     "output_type": "error",
     "traceback": [
      "\u001b[1;31mnotebook controller is DISPOSED. \n",
      "\u001b[1;31mView Jupyter <a href='command:jupyter.viewOutput'>log</a> for further details."
     ]
    },
    {
     "ename": "",
     "evalue": "",
     "output_type": "error",
     "traceback": [
      "\u001b[1;31mnotebook controller is DISPOSED. \n",
      "\u001b[1;31mView Jupyter <a href='command:jupyter.viewOutput'>log</a> for further details."
     ]
    }
   ],
   "source": [
    "df_clean.printSchema()"
   ]
  },
  {
   "cell_type": "code",
   "execution_count": 5,
   "metadata": {},
   "outputs": [
    {
     "name": "stdout",
     "output_type": "stream",
     "text": [
      "+-----------+--------------------+-----------+-------------------+----------------+----------+----------+-------------+\n",
      "|   Video ID|               Title|Category_ID|       Published At|   Channel Title|View Count|Like Count|Comment Count|\n",
      "+-----------+--------------------+-----------+-------------------+----------------+----------+----------+-------------+\n",
      "|N-gpD9QqTK0|Nấu đám tiệc kiểu...|         19|2024-12-01 17:44:37|Khoai Lang Thang|   1520244|     37496|         1969|\n",
      "|M_WD9Dxayk8|Đến nhà người lạ ...|         19|2024-11-17 18:57:32|Khoai Lang Thang|   1602732|     28690|         1378|\n",
      "|5AJd2FJUVkc|Ăn 10 món lạ ở kh...|         19|2024-11-05 20:27:52|Khoai Lang Thang|   2130532|     29506|         1236|\n",
      "|92-IbWKp_3k|Gặp nạn ở CHỢ TRỜ...|         19|2024-10-27 18:52:00|Khoai Lang Thang|   1779109|     24698|         1794|\n",
      "|MLBhMV8k6e0|Du lịch ẩm thực C...|         19|2024-10-16 21:05:48|Khoai Lang Thang|   2031031|     28867|         1248|\n",
      "|cJD4fc5l3fM|Châu Phi p8: HÀNG...|         19|2024-09-29 18:04:10|Khoai Lang Thang|   2925686|     35972|         1625|\n",
      "|mzeh6lWhFi4|Du lịch Châu Phi ...|         19|2024-09-10 19:31:20|Khoai Lang Thang|   2733586|     34429|         1541|\n",
      "|NgaZHtCr_a0|Theo người lạ vượ...|         19|2024-08-25 14:48:07|Khoai Lang Thang|   3437252|     51824|         2245|\n",
      "|oL9OX4e2Kl4|Tìm ăn trái thần ...|         19|2024-08-12 00:40:29|Khoai Lang Thang|   3584002|     45841|         2445|\n",
      "|IJ24VtLd1jU|2 ngày 1 đêm khôn...|         19|2024-08-07 22:49:32|Khoai Lang Thang|   3282410|     35258|         1397|\n",
      "|xEnYZ55FCG8|Chợ trời Châu Phi...|         19|2024-08-01 20:25:56|Khoai Lang Thang|   5242930|     49466|         2993|\n",
      "|aoFeasRsiyk|Ẩm thực đường phố...|         19|2024-07-10 17:03:36|Khoai Lang Thang|   2890252|     38724|         1863|\n",
      "|0Q8fkicguR8|Du lịch Châu Phi ...|         19|2024-07-03 20:24:10|Khoai Lang Thang|   2145024|     34792|         1587|\n",
      "|E-JMv4ebt18|Du lịch Mỹ tự túc...|         19|2024-05-16 17:08:36|Khoai Lang Thang|   1204102|     27169|          881|\n",
      "|7v7EBziokmM|Du lịch Mỹ tự túc...|         19|2024-05-03 19:20:37|Khoai Lang Thang|   1787991|     22571|          917|\n",
      "|7TdSEX4JFdw|Thiên đường cám d...|         19|2024-04-20 20:13:17|Khoai Lang Thang|   2819656|     35112|         1269|\n",
      "|5cW2Kj4_7HY|Choáng ngợp thung...|         19|2024-04-09 15:34:06|Khoai Lang Thang|   2872164|     34458|         1859|\n",
      "|FDMDKktG75I|Lặn biển tìm hải ...|         19|2024-03-31 22:27:10|Khoai Lang Thang|   3354618|     32408|         1167|\n",
      "|NTEgu8uWS1I|Du lịch Mỹ tự túc...|         19|2024-03-30 21:35:47|Khoai Lang Thang|   2116107|     35121|         1943|\n",
      "|rMBaVOW4AE8|Du lịch Mỹ tự túc...|         19|2024-03-23 15:37:08|Khoai Lang Thang|   3503158|     51271|         2076|\n",
      "+-----------+--------------------+-----------+-------------------+----------------+----------+----------+-------------+\n",
      "only showing top 20 rows\n",
      "\n",
      "Số hàng: 284, Số cột: 8\n"
     ]
    }
   ],
   "source": [
    "df_clean.show()\n",
    "print(f\"Số hàng: {df_clean.count()}, Số cột: {len(df_clean.columns)}\")"
   ]
  },
  {
   "cell_type": "code",
   "execution_count": 6,
   "metadata": {},
   "outputs": [
    {
     "name": "stdout",
     "output_type": "stream",
     "text": [
      "+-------+-----------+--------------------+------------------+----------------+------------------+------------------+------------------+\n",
      "|summary|   Video ID|               Title|       Category_ID|   Channel Title|        View Count|        Like Count|     Comment Count|\n",
      "+-------+-----------+--------------------+------------------+----------------+------------------+------------------+------------------+\n",
      "|  count|        284|                 284|               284|             284|               284|               284|               284|\n",
      "|   mean|       NULL|                NULL|19.433098591549296|            NULL|2267935.3767605633|26922.975352112677|1581.9788732394366|\n",
      "| stddev|       NULL|                NULL|2.2633419685435197|            NULL|1518302.5854609765| 16322.17740844484|1292.2597402616855|\n",
      "|    min|-VfFP4zpkZo|\"\"\"Tết Kate\"\" ở V...|                10|Khoai Lang Thang|             59105|               960|                66|\n",
      "|    max|zs9xbXCOT6Y|🇹🇭Đi về phương ...|                24|Khoai Lang Thang|           8107261|            137707|             13160|\n",
      "+-------+-----------+--------------------+------------------+----------------+------------------+------------------+------------------+\n",
      "\n"
     ]
    }
   ],
   "source": [
    "# Mô tả thống kê\n",
    "df_clean.describe().show()\n",
    "\n",
    "# Thống kê lượt xem (views)\n"
   ]
  },
  {
   "cell_type": "code",
   "execution_count": 7,
   "metadata": {},
   "outputs": [],
   "source": [
    "from pyspark.sql import SparkSession\n",
    "df_clean.createOrReplaceTempView(\"video\")"
   ]
  },
  {
   "cell_type": "code",
   "execution_count": 8,
   "metadata": {},
   "outputs": [
    {
     "name": "stdout",
     "output_type": "stream",
     "text": [
      "+-----------+--------------------+-----------+-------------------+----------------+----------+----------+-------------+\n",
      "|   Video ID|               Title|Category_ID|       Published At|   Channel Title|View Count|Like Count|Comment Count|\n",
      "+-----------+--------------------+-----------+-------------------+----------------+----------+----------+-------------+\n",
      "|N-gpD9QqTK0|Nấu đám tiệc kiểu...|         19|2024-12-01 17:44:37|Khoai Lang Thang|   1520244|     37496|         1969|\n",
      "|M_WD9Dxayk8|Đến nhà người lạ ...|         19|2024-11-17 18:57:32|Khoai Lang Thang|   1602732|     28690|         1378|\n",
      "|5AJd2FJUVkc|Ăn 10 món lạ ở kh...|         19|2024-11-05 20:27:52|Khoai Lang Thang|   2130532|     29506|         1236|\n",
      "|92-IbWKp_3k|Gặp nạn ở CHỢ TRỜ...|         19|2024-10-27 18:52:00|Khoai Lang Thang|   1779109|     24698|         1794|\n",
      "|MLBhMV8k6e0|Du lịch ẩm thực C...|         19|2024-10-16 21:05:48|Khoai Lang Thang|   2031031|     28867|         1248|\n",
      "|cJD4fc5l3fM|Châu Phi p8: HÀNG...|         19|2024-09-29 18:04:10|Khoai Lang Thang|   2925686|     35972|         1625|\n",
      "|mzeh6lWhFi4|Du lịch Châu Phi ...|         19|2024-09-10 19:31:20|Khoai Lang Thang|   2733586|     34429|         1541|\n",
      "|NgaZHtCr_a0|Theo người lạ vượ...|         19|2024-08-25 14:48:07|Khoai Lang Thang|   3437252|     51824|         2245|\n",
      "|oL9OX4e2Kl4|Tìm ăn trái thần ...|         19|2024-08-12 00:40:29|Khoai Lang Thang|   3584002|     45841|         2445|\n",
      "|IJ24VtLd1jU|2 ngày 1 đêm khôn...|         19|2024-08-07 22:49:32|Khoai Lang Thang|   3282410|     35258|         1397|\n",
      "|xEnYZ55FCG8|Chợ trời Châu Phi...|         19|2024-08-01 20:25:56|Khoai Lang Thang|   5242930|     49466|         2993|\n",
      "|aoFeasRsiyk|Ẩm thực đường phố...|         19|2024-07-10 17:03:36|Khoai Lang Thang|   2890252|     38724|         1863|\n",
      "|0Q8fkicguR8|Du lịch Châu Phi ...|         19|2024-07-03 20:24:10|Khoai Lang Thang|   2145024|     34792|         1587|\n",
      "|E-JMv4ebt18|Du lịch Mỹ tự túc...|         19|2024-05-16 17:08:36|Khoai Lang Thang|   1204102|     27169|          881|\n",
      "|7v7EBziokmM|Du lịch Mỹ tự túc...|         19|2024-05-03 19:20:37|Khoai Lang Thang|   1787991|     22571|          917|\n",
      "|7TdSEX4JFdw|Thiên đường cám d...|         19|2024-04-20 20:13:17|Khoai Lang Thang|   2819656|     35112|         1269|\n",
      "|5cW2Kj4_7HY|Choáng ngợp thung...|         19|2024-04-09 15:34:06|Khoai Lang Thang|   2872164|     34458|         1859|\n",
      "|FDMDKktG75I|Lặn biển tìm hải ...|         19|2024-03-31 22:27:10|Khoai Lang Thang|   3354618|     32408|         1167|\n",
      "|NTEgu8uWS1I|Du lịch Mỹ tự túc...|         19|2024-03-30 21:35:47|Khoai Lang Thang|   2116107|     35121|         1943|\n",
      "|rMBaVOW4AE8|Du lịch Mỹ tự túc...|         19|2024-03-23 15:37:08|Khoai Lang Thang|   3503158|     51271|         2076|\n",
      "+-----------+--------------------+-----------+-------------------+----------------+----------+----------+-------------+\n",
      "only showing top 20 rows\n",
      "\n"
     ]
    }
   ],
   "source": [
    "spark.sql(\"select * from video\").show()"
   ]
  },
  {
   "cell_type": "markdown",
   "metadata": {},
   "source": [
    "- TỔng lượt xem của mỗi category"
   ]
  },
  {
   "cell_type": "code",
   "execution_count": 9,
   "metadata": {},
   "outputs": [
    {
     "name": "stdout",
     "output_type": "stream",
     "text": [
      "+-----------+----------+\n",
      "|Category_ID|Total_view|\n",
      "+-----------+----------+\n",
      "|         15|    451875|\n",
      "|         22|   5077519|\n",
      "|         10|  11178060|\n",
      "|         24|  36836146|\n",
      "|         19| 590550047|\n",
      "+-----------+----------+\n",
      "\n"
     ]
    }
   ],
   "source": [
    "from pyspark.sql.functions import col, sum\n",
    "\n",
    "spark.sql(\"\"\"select \n",
    "                Category_ID, \n",
    "                sum(`View Count`) as Total_view\n",
    "            from \n",
    "                Video \n",
    "            group by \n",
    "                Category_ID\n",
    "            order by \n",
    "                Total_view\"\"\").show()\n"
   ]
  },
  {
   "cell_type": "markdown",
   "metadata": {},
   "source": [
    "- Số lượng video của mỗi category"
   ]
  },
  {
   "cell_type": "code",
   "execution_count": 10,
   "metadata": {},
   "outputs": [
    {
     "name": "stdout",
     "output_type": "stream",
     "text": [
      "+-----------+-----------+\n",
      "|Category_ID|Video_count|\n",
      "+-----------+-----------+\n",
      "|         15|          1|\n",
      "|         22|          5|\n",
      "|         10|          7|\n",
      "|         24|         35|\n",
      "|         19|        236|\n",
      "+-----------+-----------+\n",
      "\n"
     ]
    }
   ],
   "source": [
    "from pyspark.sql.functions import count\n",
    "\n",
    "spark.sql(\"\"\"select \n",
    "                Category_ID, \n",
    "                count(`Video ID`) as Video_count\n",
    "            from \n",
    "                Video \n",
    "            group by \n",
    "                Category_ID\n",
    "            order by \n",
    "                Video_count\"\"\").show()\n"
   ]
  },
  {
   "cell_type": "markdown",
   "metadata": {},
   "source": [
    "- 10 video có lượt xem cao nhất"
   ]
  },
  {
   "cell_type": "code",
   "execution_count": 11,
   "metadata": {},
   "outputs": [
    {
     "name": "stdout",
     "output_type": "stream",
     "text": [
      "+-----------+--------------------+----------+\n",
      "|   Video ID|               Title|View Count|\n",
      "+-----------+--------------------+----------+\n",
      "|v32lFxUUV5o|Đám Cưới Miệt Vườ...|   8107261|\n",
      "|5QCsAh9Eays|ĂN NGON & RẺ KHÔN...|   7891063|\n",
      "|3i3cDuGayqg|🇰🇷Chợ Gwangjang...|   7680470|\n",
      "|O8nVnHlmhCM|CHỢ CHÂU ĐỐC • TH...|   7403760|\n",
      "|hK-s3LsZcFc|🇹🇭Chợ đêm biên ...|   6804373|\n",
      "|TyzP2yUATuM|Đám giỗ bên cồn t...|   6516807|\n",
      "|a-2iTFdtnvk|Cuộc sống bản Phù...|   6045537|\n",
      "|7txU8f9Dl5c|ĂN BUFFET 5 SAO Ở...|   5891310|\n",
      "|p_u50y858kY|Nấu ĐÁM GIỖ từ ba...|   5738110|\n",
      "|zc3A_CxSyc4|Nấu đám miệt vườn...|   5575163|\n",
      "+-----------+--------------------+----------+\n",
      "\n"
     ]
    }
   ],
   "source": [
    "spark.sql(\"\"\"\n",
    "            SELECT \n",
    "                `Video ID`, \n",
    "                `Title`,\n",
    "                `View Count`\n",
    "            FROM \n",
    "                Video \n",
    "            ORDER BY \n",
    "                `View Count` DESC \n",
    "            LIMIT 10\n",
    "        \"\"\").show()\n"
   ]
  },
  {
   "cell_type": "code",
   "execution_count": 12,
   "metadata": {},
   "outputs": [
    {
     "name": "stdout",
     "output_type": "stream",
     "text": [
      "+-----------+--------------------+----------+\n",
      "|   Video ID|               Title|Like Count|\n",
      "+-----------+--------------------+----------+\n",
      "|TrbtMqHSmcc|800 NGÀY ĐI KHẮP ...|    137707|\n",
      "|wjDs5zwRlMA|(Official Music V...|     93884|\n",
      "|36ms9Si7f8I|XIN LỖI - KHOAI |...|     92510|\n",
      "|T02aU8qpshQ|10 năm & BÍ MẬT C...|     88221|\n",
      "|v32lFxUUV5o|Đám Cưới Miệt Vườ...|     78135|\n",
      "|a0RLS40Qh-A|Việt Nam chuyện c...|     63578|\n",
      "|MZxiqm-JkfY|Bánh đúc thủ công...|     62743|\n",
      "|a-2iTFdtnvk|Cuộc sống bản Phù...|     61219|\n",
      "|3i3cDuGayqg|🇰🇷Chợ Gwangjang...|     57065|\n",
      "|TyzP2yUATuM|Đám giỗ bên cồn t...|     55756|\n",
      "+-----------+--------------------+----------+\n",
      "\n"
     ]
    }
   ],
   "source": [
    "spark.sql(\"\"\"\n",
    "            SELECT \n",
    "                `Video ID`, \n",
    "                `Title`,\n",
    "                `Like Count`\n",
    "            FROM \n",
    "                Video \n",
    "            ORDER BY \n",
    "                `Like Count` DESC \n",
    "            LIMIT 10\n",
    "        \"\"\").show()\n"
   ]
  },
  {
   "cell_type": "code",
   "execution_count": 13,
   "metadata": {},
   "outputs": [
    {
     "name": "stdout",
     "output_type": "stream",
     "text": [
      "+-----------+--------------------+-------------+\n",
      "|   Video ID|               Title|Comment Count|\n",
      "+-----------+--------------------+-------------+\n",
      "|TrbtMqHSmcc|800 NGÀY ĐI KHẮP ...|        13160|\n",
      "|36ms9Si7f8I|XIN LỖI - KHOAI |...|         9190|\n",
      "|v32lFxUUV5o|Đám Cưới Miệt Vườ...|         6202|\n",
      "|TyzP2yUATuM|Đám giỗ bên cồn t...|         5589|\n",
      "|4V4KjfmH5vw|ĐẶC SẢN QUÝ HIẾM ...|         5537|\n",
      "|wjDs5zwRlMA|(Official Music V...|         4823|\n",
      "|T02aU8qpshQ|10 năm & BÍ MẬT C...|         4708|\n",
      "|a0RLS40Qh-A|Việt Nam chuyện c...|         4449|\n",
      "|5QCsAh9Eays|ĂN NGON & RẺ KHÔN...|         4431|\n",
      "|a-2iTFdtnvk|Cuộc sống bản Phù...|         4366|\n",
      "+-----------+--------------------+-------------+\n",
      "\n"
     ]
    }
   ],
   "source": [
    "spark.sql(\"\"\"\n",
    "            SELECT \n",
    "                `Video ID`, \n",
    "                `Title`,\n",
    "                `Comment Count`\n",
    "            FROM \n",
    "                Video \n",
    "            ORDER BY \n",
    "                `Comment Count` DESC \n",
    "            LIMIT 10\n",
    "        \"\"\").show()\n"
   ]
  },
  {
   "cell_type": "markdown",
   "metadata": {},
   "source": [
    "- Số lượng video mỗi năm"
   ]
  },
  {
   "cell_type": "code",
   "execution_count": 14,
   "metadata": {},
   "outputs": [
    {
     "name": "stdout",
     "output_type": "stream",
     "text": [
      "+----+----------+\n",
      "|Year|Total_view|\n",
      "+----+----------+\n",
      "|2024|  64707611|\n",
      "|2023|  97253424|\n",
      "|2022|  75388408|\n",
      "|2021|  38998764|\n",
      "|2020|  68516080|\n",
      "|2019| 107469646|\n",
      "|2018| 137904607|\n",
      "|2017|  53855107|\n",
      "+----+----------+\n",
      "\n"
     ]
    }
   ],
   "source": [
    "from pyspark.sql.functions import year, month\n",
    "\n",
    "\n",
    "spark.sql(\"\"\"\n",
    "            SELECT \n",
    "                YEAR(`Published At`) as Year, \n",
    "                SUM(`View Count`) as Total_view\n",
    "            FROM \n",
    "                Video \n",
    "            GROUP BY \n",
    "                YEAR(`Published At`)\n",
    "            ORDER BY \n",
    "                YEAR(`Published At`) DESC \n",
    "        \"\"\").show()\n"
   ]
  },
  {
   "cell_type": "markdown",
   "metadata": {},
   "source": [
    "- Tỉ lệ tương tác theo video"
   ]
  },
  {
   "cell_type": "code",
   "execution_count": 15,
   "metadata": {},
   "outputs": [
    {
     "name": "stdout",
     "output_type": "stream",
     "text": [
      "+-----------+--------------------+\n",
      "|   Video ID|     Ti_le_tuong_tac|\n",
      "+-----------+--------------------+\n",
      "|XdbjuI86zhM| 0.07914200821377348|\n",
      "|a0RLS40Qh-A| 0.07401455549595638|\n",
      "|36ms9Si7f8I| 0.05627321892772128|\n",
      "|q5EPifZQK8I| 0.05039767513000918|\n",
      "|xXTcKSxGClQ| 0.04872383460159695|\n",
      "|TrbtMqHSmcc| 0.04163283890996895|\n",
      "|wjDs5zwRlMA| 0.03859600280123764|\n",
      "|kL-XgVsV8EI| 0.03678875611256841|\n",
      "|zMn9mithu84| 0.03601119164946227|\n",
      "|CnlXly4_b9Y|0.032958957796567115|\n",
      "|quZy6AhGmEc|0.032448847884032295|\n",
      "|OWlik0yAwoc| 0.03187260153091588|\n",
      "|JYULx2AItoI| 0.03140695915279879|\n",
      "|SYcnSZfXwWw|0.030660321797922212|\n",
      "|RvMcyBS8SgU|0.030424938025804687|\n",
      "|5ta7YnZ1K_o|0.030185685932506125|\n",
      "|V_2_CPiTDR4|  0.0295407755862526|\n",
      "|T02aU8qpshQ| 0.02926931746921145|\n",
      "|SLpU2LGv54g|0.029211199642519933|\n",
      "|wX-TrSDnAys| 0.02893649585103135|\n",
      "+-----------+--------------------+\n",
      "only showing top 20 rows\n",
      "\n"
     ]
    }
   ],
   "source": [
    "spark.sql(\"\"\"\n",
    "            SELECT \n",
    "                `Video ID`, \n",
    "                (`Like Count` + `Comment Count`) / `View Count` as Ti_le_tuong_tac\n",
    "            FROM \n",
    "                Video \n",
    "            ORDER BY \n",
    "                Ti_le_tuong_tac DESC \n",
    "        \"\"\").show()"
   ]
  },
  {
   "cell_type": "markdown",
   "metadata": {},
   "source": [
    "- Tỉ lệ tương tác theo category"
   ]
  },
  {
   "cell_type": "code",
   "execution_count": 16,
   "metadata": {},
   "outputs": [
    {
     "name": "stdout",
     "output_type": "stream",
     "text": [
      "+-----------+--------------------+\n",
      "|Category_ID|     Ti_le_tuong_tac|\n",
      "+-----------+--------------------+\n",
      "|         22| 0.03472955984999761|\n",
      "|         10| 0.03354419282057888|\n",
      "|         15|  0.0142716459197787|\n",
      "|         19|0.012093535571253625|\n",
      "|         24|0.010745450949184531|\n",
      "+-----------+--------------------+\n",
      "\n"
     ]
    }
   ],
   "source": [
    "# Dùng groupBy với selectExpr gián tiếp\n",
    "\n",
    "spark.sql(\"\"\"SELECT \n",
    "                Category_ID,\n",
    "                (SUM(`Like Count`)+ SUM(`Comment Count`))/SUM(`View Count`) as Ti_le_tuong_tac\n",
    "            FROM \n",
    "                Video\n",
    "            GROUP BY \n",
    "                Category_ID\n",
    "            ORDER BY\n",
    "                Ti_le_tuong_tac DESC\n",
    "            \"\"\").show()\n"
   ]
  },
  {
   "cell_type": "markdown",
   "metadata": {},
   "source": [
    "- View trung bình cho mỗi video"
   ]
  },
  {
   "cell_type": "code",
   "execution_count": 17,
   "metadata": {},
   "outputs": [
    {
     "name": "stdout",
     "output_type": "stream",
     "text": [
      "+-----------+----------+-----------------------+----------+-----------------------+-------------+-------------------------+\n",
      "|Total_Video|Total_View|Average_Views_Per_Video|Total_Like|Average_Likes_Per_Video|Total_Comment|Average_Comment_Per_Video|\n",
      "+-----------+----------+-----------------------+----------+-----------------------+-------------+-------------------------+\n",
      "|        284| 644093647|     2267935.3767605633|   7646125|     26922.975352112677|       449282|       1581.9788732394366|\n",
      "+-----------+----------+-----------------------+----------+-----------------------+-------------+-------------------------+\n",
      "\n"
     ]
    }
   ],
   "source": [
    "from pyspark.sql.functions import expr\n",
    "\n",
    "spark.sql(\"\"\"\n",
    "    SELECT \n",
    "        COUNT(`Video ID`) AS Total_Video,\n",
    "        SUM(`View Count`) AS Total_View,\n",
    "        SUM(`View Count`) / COUNT(`Video ID`) AS Average_Views_Per_Video,\n",
    "        SUM(`Like Count`) AS Total_Like,\n",
    "        SUM(`Like Count`) / COUNT(`Video ID`) AS Average_Likes_Per_Video,\n",
    "        SUM(`Comment Count`) AS Total_Comment,\n",
    "        SUM(`Comment Count`) / COUNT(`Video ID`) AS Average_Comment_Per_Video\n",
    "    FROM video\n",
    "\"\"\").show()\n"
   ]
  },
  {
   "cell_type": "code",
   "execution_count": 18,
   "metadata": {},
   "outputs": [
    {
     "name": "stdout",
     "output_type": "stream",
     "text": [
      "+----+-----------+----------+-----------------------+----------+-----------------------+-------------+-------------------------+\n",
      "|Year|Total_Video|Total_View|Average_Views_Per_Video|Total_Like|Average_Likes_Per_Video|Total_Comment|Average_Comment_Per_Video|\n",
      "+----+-----------+----------+-----------------------+----------+-----------------------+-------------+-------------------------+\n",
      "|2017|         48|  53855107|     1121981.3958333333|    566504|     11802.166666666666|        45151|        940.6458333333334|\n",
      "|2018|         58| 137904607|     2377665.6379310344|   1335530|     23026.379310344826|        94382|       1627.2758620689656|\n",
      "|2019|         50| 107469646|             2149392.92|   1610016|               32200.32|       112736|                  2254.72|\n",
      "|2020|         28|  68516080|     2447002.8571428573|    952112|                34004.0|        59969|                  2141.75|\n",
      "|2021|         16|  38998764|             2437422.75|    513688|                32105.5|        30475|                1904.6875|\n",
      "|2022|         26|  75388408|      2899554.153846154|    825044|      31732.46153846154|        28268|       1087.2307692307693|\n",
      "|2023|         35|  97253424|      2778669.257142857|   1022222|     29206.342857142856|        39298|                   1122.8|\n",
      "|2024|         23|  64707611|     2813374.3913043477|    821009|      35696.04347826087|        39003|       1695.7826086956522|\n",
      "+----+-----------+----------+-----------------------+----------+-----------------------+-------------+-------------------------+\n",
      "\n"
     ]
    }
   ],
   "source": [
    "from pyspark.sql.functions import expr\n",
    "\n",
    "spark.sql(\"\"\"\n",
    "    SELECT \n",
    "        YEAR(`Published At`) as Year,\n",
    "        COUNT(`Video ID`) AS Total_Video,\n",
    "        SUM(`View Count`) AS Total_View,\n",
    "        SUM(`View Count`) / COUNT(`Video ID`) AS Average_Views_Per_Video,\n",
    "        SUM(`Like Count`) AS Total_Like,\n",
    "        SUM(`Like Count`) / COUNT(`Video ID`) AS Average_Likes_Per_Video,\n",
    "        SUM(`Comment Count`) AS Total_Comment,\n",
    "        SUM(`Comment Count`) / COUNT(`Video ID`) AS Average_Comment_Per_Video\n",
    "    FROM video\n",
    "    GROUP BY Year\n",
    "    ORDER BY Year\n",
    "\"\"\").show()\n"
   ]
  },
  {
   "cell_type": "code",
   "execution_count": 19,
   "metadata": {},
   "outputs": [
    {
     "name": "stdout",
     "output_type": "stream",
     "text": [
      "+----+-----+-----------+----------+-----------------------+----------+-----------------------+-------------+-------------------------+\n",
      "|Year|Month|Total_Video|Total_View|Average_Views_Per_Video|Total_Like|Average_Likes_Per_Video|Total_Comment|Average_Comment_Per_Video|\n",
      "+----+-----+-----------+----------+-----------------------+----------+-----------------------+-------------+-------------------------+\n",
      "|2017|    2|          2|   1224273|               612136.5|     13479|                 6739.5|         1217|                    608.5|\n",
      "|2017|    3|          5|   4008293|               801658.6|     40684|                 8136.8|         2694|                    538.8|\n",
      "|2017|    4|          5|   2757327|               551465.4|     29915|                 5983.0|         2252|                    450.4|\n",
      "|2017|    5|          3|   1821947|      607315.6666666666|     18036|                 6012.0|         1047|                    349.0|\n",
      "|2017|    6|          8|   5491449|             686431.125|     56805|               7100.625|         3713|                  464.125|\n",
      "|2017|    7|          3|   2188194|               729398.0|     22539|                 7513.0|         2078|        692.6666666666666|\n",
      "|2017|    8|          5|   4547832|               909566.4|     60288|                12057.6|         5433|                   1086.6|\n",
      "|2017|    9|          7|  10114421|     1444917.2857142857|    101419|      14488.42857142857|         5020|        717.1428571428571|\n",
      "|2017|   10|          4|   6767902|              1691975.5|     79706|                19926.5|         7511|                  1877.75|\n",
      "|2017|   11|          1|   5891310|              5891310.0|     46856|                46856.0|         3031|                   3031.0|\n",
      "|2017|   12|          5|   9042159|              1808431.8|     96777|                19355.4|        11155|                   2231.0|\n",
      "|2018|    1|          5|  18087910|              3617582.0|    157047|                31409.4|        11481|                   2296.2|\n",
      "|2018|    2|          4|  10724967|             2681241.75|     95549|               23887.25|         8519|                  2129.75|\n",
      "|2018|    3|          4|   8403608|              2100902.0|     85350|                21337.5|         6781|                  1695.25|\n",
      "|2018|    4|          5|   7973709|              1594741.8|    101371|                20274.2|         5638|                   1127.6|\n",
      "|2018|    5|          5|  15473556|              3094711.2|    119264|                23852.8|         9424|                   1884.8|\n",
      "|2018|    6|          5|   8909910|              1781982.0|    101205|                20241.0|         9402|                   1880.4|\n",
      "|2018|    7|          5|  11923545|              2384709.0|    114958|                22991.6|         7885|                   1577.0|\n",
      "|2018|    8|          5|  12074053|              2414810.6|    101401|                20280.2|         7926|                   1585.2|\n",
      "|2018|    9|          5|  11279287|              2255857.4|    100743|                20148.6|         7537|                   1507.4|\n",
      "+----+-----+-----------+----------+-----------------------+----------+-----------------------+-------------+-------------------------+\n",
      "only showing top 20 rows\n",
      "\n"
     ]
    }
   ],
   "source": [
    "from pyspark.sql.functions import expr\n",
    "\n",
    "spark.sql(\"\"\"\n",
    "    SELECT \n",
    "        YEAR(`Published At`) as Year,\n",
    "        MONTH(`Published At`) as Month,\n",
    "        COUNT(`Video ID`) AS Total_Video,\n",
    "        SUM(`View Count`) AS Total_View,\n",
    "        SUM(`View Count`) / COUNT(`Video ID`) AS Average_Views_Per_Video,\n",
    "        SUM(`Like Count`) AS Total_Like,\n",
    "        SUM(`Like Count`) / COUNT(`Video ID`) AS Average_Likes_Per_Video,\n",
    "        SUM(`Comment Count`) AS Total_Comment,\n",
    "        SUM(`Comment Count`) / COUNT(`Video ID`) AS Average_Comment_Per_Video\n",
    "    FROM video\n",
    "    GROUP BY Year, Month\n",
    "    ORDER BY Year, Month\n",
    "\"\"\").show()\n"
   ]
  },
  {
   "cell_type": "markdown",
   "metadata": {},
   "source": [
    "- Top 5 video được xem nhiều nhất mỗi năm"
   ]
  },
  {
   "cell_type": "code",
   "execution_count": 20,
   "metadata": {},
   "outputs": [
    {
     "name": "stdout",
     "output_type": "stream",
     "text": [
      "+----+-----------+--------------------+----------+----+\n",
      "|Year|   Video ID|               Title|View Count|rank|\n",
      "+----+-----------+--------------------+----------+----+\n",
      "|2017|7txU8f9Dl5c|ĂN BUFFET 5 SAO Ở...|   5891310|   1|\n",
      "|2017|4V4KjfmH5vw|ĐẶC SẢN QUÝ HIẾM ...|   4210885|   2|\n",
      "|2017|78uRq9DW6Eo|18 món ăn Thái La...|   3171014|   3|\n",
      "|2018|5QCsAh9Eays|ĂN NGON & RẺ KHÔN...|   7891063|   1|\n",
      "|2018|O8nVnHlmhCM|CHỢ CHÂU ĐỐC • TH...|   7403760|   2|\n",
      "|2018|S07VinbxN3g|CUA HOÀNG ĐẾ, BÀO...|   5235118|   3|\n",
      "|2019|v32lFxUUV5o|Đám Cưới Miệt Vườ...|   8107261|   1|\n",
      "|2019|TyzP2yUATuM|Đám giỗ bên cồn t...|   6516807|   2|\n",
      "|2019|a-2iTFdtnvk|Cuộc sống bản Phù...|   6045537|   3|\n",
      "|2020|L4HWqGQxIj4|Món ngon sông nướ...|   5281038|   1|\n",
      "|2020|rgtYBNml5ts|24h sống trên bè ...|   4790384|   2|\n",
      "|2020|r3UJ3Uc9VqM|Nấu ăn cùng n...|   4709265|   3|\n",
      "|2021|MZxiqm-JkfY|Bánh đúc thủ công...|   4924649|   1|\n",
      "|2021|ENSLITZnc6w|Cuộc sống Năm Căn...|   4244863|   2|\n",
      "|2021|6S3pp7oLmog|Du lịch Nghệ An: ...|   4057795|   3|\n",
      "|2022|3i3cDuGayqg|🇰🇷Chợ Gwangjang...|   7680470|   1|\n",
      "|2022|CRvD8dOBmx8|🇹🇭Ăn sập Tha...|   5156894|   2|\n",
      "|2022|ILRRwwnbLyc|Bắc Hà Du Ký P2: ...|   4737494|   3|\n",
      "|2023|hK-s3LsZcFc|🇹🇭Chợ đêm biên ...|   6804373|   1|\n",
      "|2023|zc3A_CxSyc4|Nấu đám miệt vườn...|   5575163|   2|\n",
      "+----+-----------+--------------------+----------+----+\n",
      "only showing top 20 rows\n",
      "\n"
     ]
    }
   ],
   "source": [
    "spark.sql(\"\"\"SELECT  *\n",
    "             FROM \n",
    "                 (SELECT\n",
    "                        YEAR(`Published At`) as Year,\n",
    "                        `Video ID`,\n",
    "                        Title,\n",
    "                        `View Count`,\n",
    "                        ROW_NUMBER() OVER (PARTITION BY YEAR(`Published At`) ORDER BY `View Count` DESC) AS rank\n",
    "                    FROM \n",
    "                        video) as rank_video\n",
    "             WHERE rank <=3\n",
    "             ORDER BY Year\"\"\").show()\n",
    "\n",
    "\n"
   ]
  },
  {
   "cell_type": "markdown",
   "metadata": {},
   "source": []
  }
 ],
 "metadata": {
  "kernelspec": {
   "display_name": "base",
   "language": "python",
   "name": "python3"
  },
  "language_info": {
   "codemirror_mode": {
    "name": "ipython",
    "version": 3
   },
   "file_extension": ".py",
   "mimetype": "text/x-python",
   "name": "python",
   "nbconvert_exporter": "python",
   "pygments_lexer": "ipython3",
   "version": "3.11.7"
  }
 },
 "nbformat": 4,
 "nbformat_minor": 2
}
