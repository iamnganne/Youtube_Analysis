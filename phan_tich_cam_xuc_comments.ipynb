{
 "cells": [
  {
   "cell_type": "markdown",
   "metadata": {},
   "source": [
    "Chuẩn bị dữ liệu"
   ]
  },
  {
   "cell_type": "code",
   "execution_count": 14,
   "metadata": {},
   "outputs": [
    {
     "data": {
      "text/plain": [
       "DataFrame[video_id: string, author: string, comment_text: string, published_at: string, like_count: string]"
      ]
     },
     "execution_count": 14,
     "metadata": {},
     "output_type": "execute_result"
    }
   ],
   "source": [
    "comment_df = spark.read.format(\"csv\").option(\"header\",\"true\").option(\"inferSchema\",\"true\").load(\"comments2.csv\")\n",
    "comment_df"
   ]
  },
  {
   "cell_type": "code",
   "execution_count": 3,
   "metadata": {},
   "outputs": [
    {
     "name": "stdout",
     "output_type": "stream",
     "text": [
      "root\n",
      " |-- video_id: string (nullable = true)\n",
      " |-- author: string (nullable = true)\n",
      " |-- comment_text: string (nullable = true)\n",
      " |-- published_at: string (nullable = true)\n",
      " |-- like_count: string (nullable = true)\n",
      "\n",
      "+-----------+------------------+--------------------+--------------------+----------+\n",
      "|   video_id|            author|        comment_text|        published_at|like_count|\n",
      "+-----------+------------------+--------------------+--------------------+----------+\n",
      "|N-gpD9QqTK0|    @truchothi7758|Sau khi dc xem vi...|2024-12-10T15:26:42Z|         0|\n",
      "|N-gpD9QqTK0|     @ÁiNguyễn-b1p|Cảm ơn khoai.tất ...|2024-12-10T15:15:36Z|         0|\n",
      "|N-gpD9QqTK0| @UyenNguyen-lu5bu|Thích tập này quá...|2024-12-10T14:42:05Z|         0|\n",
      "|N-gpD9QqTK0|@dieunguyeninh3741|Xem video của Kho...|2024-12-10T14:33:42Z|         0|\n",
      "|N-gpD9QqTK0|  @huynhthuytram24|Một video thực sự...|2024-12-10T13:54:28Z|         0|\n",
      "+-----------+------------------+--------------------+--------------------+----------+\n",
      "only showing top 5 rows\n",
      "\n"
     ]
    }
   ],
   "source": [
    "from pyspark.sql import SparkSession\n",
    "from pyspark.sql.functions import col\n",
    "\n",
    "# Tạo SparkSession\n",
    "spark = SparkSession.builder.appName(\"SentimentAnalysis\").getOrCreate()\n",
    "\n",
    "# Đọc dữ liệu\n",
    "data = spark.read.csv(\"comments2.csv\", header=True, inferSchema=True)\n",
    "\n",
    "# Hiển thị thông tin dữ liệu\n",
    "data.printSchema()\n",
    "data.show(5)\n",
    "\n",
    "# Loại bỏ giá trị NULL trong cột comment_text\n",
    "data = data.filter(col(\"comment_text\").isNotNull())"
   ]
  },
  {
   "cell_type": "markdown",
   "metadata": {},
   "source": [
    "Tiền xử lí"
   ]
  },
  {
   "cell_type": "code",
   "execution_count": 4,
   "metadata": {},
   "outputs": [
    {
     "name": "stdout",
     "output_type": "stream",
     "text": [
      "+-----------+\n",
      "|video_id   |\n",
      "+-----------+\n",
      "|aoFeasRsiyk|\n",
      "|oL9OX4e2Kl4|\n",
      "|NTEgu8uWS1I|\n",
      "|M_WD9Dxayk8|\n",
      "|IJ24VtLd1jU|\n",
      "|N-gpD9QqTK0|\n",
      "|NgaZHtCr_a0|\n",
      "|92-IbWKp_3k|\n",
      "|cJD4fc5l3fM|\n",
      "|mzeh6lWhFi4|\n",
      "|0Q8fkicguR8|\n",
      "|MLBhMV8k6e0|\n",
      "|5cW2Kj4_7HY|\n",
      "|7TdSEX4JFdw|\n",
      "|xEnYZ55FCG8|\n",
      "|E-JMv4ebt18|\n",
      "|7v7EBziokmM|\n",
      "|FDMDKktG75I|\n",
      "|5AJd2FJUVkc|\n",
      "|DRo7i4jQ3Z8|\n",
      "+-----------+\n",
      "only showing top 20 rows\n",
      "\n"
     ]
    }
   ],
   "source": [
    "# Lọc các hàng có video_id không hợp lệ\n",
    "data = data.filter(col(\"video_id\").rlike(\"^[a-zA-Z0-9_-]{11}$\"))\n",
    "data.select(\"video_id\").distinct().show(truncate=False)"
   ]
  },
  {
   "cell_type": "code",
   "execution_count": 5,
   "metadata": {},
   "outputs": [
    {
     "name": "stdout",
     "output_type": "stream",
     "text": [
      "+--------------------+--------------------+--------------------+\n",
      "|        comment_text|      filtered_words|            features|\n",
      "+--------------------+--------------------+--------------------+\n",
      "|Sau khi dc xem vi...|[sau, khi, dc, xe...|(1000,[28,34,72,7...|\n",
      "|Cảm ơn khoai.tất ...|[cảm, ơn, khoai.t...|(1000,[92,153,177...|\n",
      "|Thích tập này quá...|[thích, tập, này,...|(1000,[61,244,376...|\n",
      "|Xem video của Kho...|[xem, video, của,...|(1000,[34,92,317,...|\n",
      "|Một video thực sự...|[một, video, thực...|(1000,[28,67,76,9...|\n",
      "+--------------------+--------------------+--------------------+\n",
      "only showing top 5 rows\n",
      "\n"
     ]
    }
   ],
   "source": [
    "from pyspark.ml.feature import Tokenizer, StopWordsRemover, HashingTF, IDF\n",
    "\n",
    "# Tokenizer: tách từ\n",
    "tokenizer = Tokenizer(inputCol=\"comment_text\", outputCol=\"words\")\n",
    "data = tokenizer.transform(data)\n",
    "\n",
    "# Loại bỏ từ dừng\n",
    "stopwords_remover = StopWordsRemover(inputCol=\"words\", outputCol=\"filtered_words\")\n",
    "data = stopwords_remover.transform(data)\n",
    "\n",
    "# HashingTF: Tạo vector từ văn bản\n",
    "hashing_tf = HashingTF(inputCol=\"filtered_words\", outputCol=\"raw_features\", numFeatures=1000)\n",
    "data = hashing_tf.transform(data)\n",
    "\n",
    "# IDF: Chuẩn hóa vector\n",
    "idf = IDF(inputCol=\"raw_features\", outputCol=\"features\")\n",
    "idf_model = idf.fit(data)\n",
    "data = idf_model.transform(data)\n",
    "\n",
    "data.select(\"comment_text\", \"filtered_words\", \"features\").show(5)\n"
   ]
  },
  {
   "cell_type": "markdown",
   "metadata": {},
   "source": [
    "Huấn luyện mô hình"
   ]
  },
  {
   "cell_type": "code",
   "execution_count": 6,
   "metadata": {},
   "outputs": [
    {
     "name": "stdout",
     "output_type": "stream",
     "text": [
      "+--------------------+-----+\n",
      "|        comment_text|label|\n",
      "+--------------------+-----+\n",
      "|Sau khi dc xem vi...|    2|\n",
      "|Cảm ơn khoai.tất ...|    2|\n",
      "|Thích tập này quá...|    2|\n",
      "|Xem video của Kho...|    2|\n",
      "|Một video thực sự...|    2|\n",
      "|Anh Khoai dễ thươ...|    2|\n",
      "|Cảm ơn vì những g...|    1|\n",
      "|người ta ổ chuột ...|    1|\n",
      "|em theo dõi hành ...|    1|\n",
      "|        QC nhiều quá|    1|\n",
      "+--------------------+-----+\n",
      "only showing top 10 rows\n",
      "\n"
     ]
    }
   ],
   "source": [
    "from pyspark.sql.functions import when\n",
    "\n",
    "data = data.withColumn(\n",
    "    \"label\",\n",
    "    when(col(\"comment_text\").rlike(\"cảm ơn|tuyệt vời|yêu thích|hay|xuất sắc|đỉnh cao|tốt nhất|dễ thương|tuyệt|ý nghĩa|ấm áp|cười|chúc mừng\"), 2)  # Tích cực\n",
    "    .when(col(\"comment_text\").rlike(\"ổn|bình thường|cũng được|ok|tạm ổn\"), 1)  # Trung lập\n",
    "    .when(col(\"comment_text\").rlike(\"tệ|kém|không thích|chán|thất vọng|quá tệ|dở|kém chất lượng|dở tệ|qc|quảng cáo\"), 0)  # Tiêu cực\n",
    "    .otherwise(1)  # Gán mặc định là trung lập nếu không khớp\n",
    ")\n",
    "data.select(\"comment_text\", \"label\").show(10)"
   ]
  },
  {
   "cell_type": "code",
   "execution_count": 7,
   "metadata": {},
   "outputs": [
    {
     "name": "stdout",
     "output_type": "stream",
     "text": [
      "+--------------------+-----+----------+\n",
      "|        comment_text|label|prediction|\n",
      "+--------------------+-----+----------+\n",
      "|Xa xôi vậy mà BYD...|    1|       1.0|\n",
      "|Khoai đi nhớ có t...|    1|       2.0|\n",
      "|Thú vị thiệt luôn...|    1|       1.0|\n",
      "|\"DUNG TU \"\" MOI N...|    1|       1.0|\n",
      "|Chúc anh Khoai th...|    1|       1.0|\n",
      "|không mấy ngày an...|    1|       1.0|\n",
      "|Mất tích cả tháng...|    1|       1.0|\n",
      "|Hời ơi ổng đăng v...|    1|       1.0|\n",
      "|nhìn anh Phương d...|    1|       1.0|\n",
      "|Hải quan VN mình ...|    1|       1.0|\n",
      "+--------------------+-----+----------+\n",
      "only showing top 10 rows\n",
      "\n",
      "Độ chính xác: 0.9257504594649786\n"
     ]
    }
   ],
   "source": [
    "from pyspark.ml.classification import LogisticRegression\n",
    "from pyspark.ml.feature import VectorAssembler\n",
    "from pyspark.ml.evaluation import MulticlassClassificationEvaluator\n",
    "\n",
    "# Thay các giá trị không hợp lệ trong cột like_count bằng 0\n",
    "data = data.withColumn(\n",
    "    \"like_count\", \n",
    "    when(col(\"like_count\").cast(\"int\").isNotNull(), col(\"like_count\").cast(\"int\")).otherwise(0)\n",
    ")\n",
    "\n",
    "# Kết hợp features và like_count\n",
    "assembler = VectorAssembler(inputCols=[\"features\", \"like_count\"], outputCol=\"final_features\")\n",
    "data = assembler.transform(data)\n",
    "\n",
    "# Chia tập dữ liệu thành train và test\n",
    "train, test = data.randomSplit([0.8, 0.2], seed=42)\n",
    "\n",
    "# Logistic Regression\n",
    "lr = LogisticRegression(featuresCol=\"final_features\", labelCol=\"label\")\n",
    "model = lr.fit(train)\n",
    "\n",
    "# Dự đoán trên tập test\n",
    "predictions = model.transform(test)\n",
    "predictions.select(\"comment_text\", \"label\", \"prediction\").show(10)\n",
    "\n",
    "# Đánh giá mô hình\n",
    "evaluator = MulticlassClassificationEvaluator(labelCol=\"label\", predictionCol=\"prediction\", metricName=\"accuracy\")\n",
    "accuracy = evaluator.evaluate(predictions)\n",
    "print(f\"Độ chính xác: {accuracy}\")"
   ]
  },
  {
   "cell_type": "markdown",
   "metadata": {},
   "source": [
    "Phân tích xu hướng bình luận trên video"
   ]
  },
  {
   "cell_type": "code",
   "execution_count": null,
   "metadata": {},
   "outputs": [
    {
     "name": "stdout",
     "output_type": "stream",
     "text": [
      "+-----------+---+---+---+\n",
      "|   video_id|0.0|1.0|2.0|\n",
      "+-----------+---+---+---+\n",
      "|mLmPajA_3Gg|  0|220|110|\n",
      "|fw02hy6vqaQ|  2| 93| 12|\n",
      "|DRo7i4jQ3Z8|  1|126| 14|\n",
      "|OexdHszpU00|  1|124| 27|\n",
      "|aoFeasRsiyk|  0|246| 67|\n",
      "|KMdlKttaWJY|  1| 72|  7|\n",
      "|GOz2qHVKKC8|  0|281| 43|\n",
      "|4NWNhzcRRtg|  0|195| 24|\n",
      "|rcgrVgVlV5c|  2|125|  9|\n",
      "|2gVWXkHSpL0|  1|119| 16|\n",
      "|SjtMbfXcc6U|  1|406| 78|\n",
      "|28oGGAiNtrU|  2|259| 38|\n",
      "|oL9OX4e2Kl4|  3|371| 85|\n",
      "|NTEgu8uWS1I|  2|263| 43|\n",
      "|QswEGJs4a74|  0|195| 32|\n",
      "|Psj74U61H1Y|  0|160|  9|\n",
      "|SLpU2LGv54g|  2|415|196|\n",
      "|IJ24VtLd1jU|  4|186| 44|\n",
      "|M_WD9Dxayk8|  3|225| 44|\n",
      "|i7J4C8LHE6Y|  1|144| 26|\n",
      "+-----------+---+---+---+\n",
      "only showing top 20 rows\n",
      "\n"
     ]
    }
   ],
   "source": [
    "from pyspark.sql.functions import count, mean\n",
    "\n",
    "# Tính số lượng và tỷ lệ cảm xúc trên mỗi video\n",
    "video_sentiment = predictions.groupBy(\"video_id\", \"prediction\").agg(count(\"prediction\").alias(\"count\"))\n",
    "video_sentiment = video_sentiment.groupBy(\"video_id\").pivot(\"prediction\").sum(\"count\").fillna(0)\n",
    "\n",
    "# Đổi tên cột cảm xúc\n",
    "video_sentiment = video_sentiment.withColumnRenamed(\"negative\", \"0\")\\\n",
    "                                 .withColumnRenamed(\"neutral\", \"1\")\\\n",
    "                                 .withColumnRenamed(\"positive\", \"2\")\n",
    "\n",
    "# Hiển thị kết quả\n",
    "video_sentiment.show()"
   ]
  },
  {
   "cell_type": "code",
   "execution_count": 16,
   "metadata": {},
   "outputs": [],
   "source": [
    "video_sentiment.write.csv(\"video_sentiment_output.csv\", header=True, mode=\"overwrite\")"
   ]
  }
 ],
 "metadata": {
  "kernelspec": {
   "display_name": "base",
   "language": "python",
   "name": "python3"
  },
  "language_info": {
   "codemirror_mode": {
    "name": "ipython",
    "version": 3
   },
   "file_extension": ".py",
   "mimetype": "text/x-python",
   "name": "python",
   "nbconvert_exporter": "python",
   "pygments_lexer": "ipython3",
   "version": "3.11.4"
  }
 },
 "nbformat": 4,
 "nbformat_minor": 2
}
